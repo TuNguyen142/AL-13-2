{
  "nbformat": 4,
  "nbformat_minor": 0,
  "metadata": {
    "colab": {
      "provenance": [],
      "authorship_tag": "ABX9TyPRDpENdOt4nGU7+d6fpWi7",
      "include_colab_link": true
    },
    "kernelspec": {
      "name": "python3",
      "display_name": "Python 3"
    },
    "language_info": {
      "name": "python"
    }
  },
  "cells": [
    {
      "cell_type": "markdown",
      "metadata": {
        "id": "view-in-github",
        "colab_type": "text"
      },
      "source": [
        "<a href=\"https://colab.research.google.com/github/TuNguyen142/AL-13-2/blob/main/24_4_2023.ipynb\" target=\"_parent\"><img src=\"https://colab.research.google.com/assets/colab-badge.svg\" alt=\"Open In Colab\"/></a>"
      ]
    },
    {
      "cell_type": "code",
      "execution_count": 1,
      "metadata": {
        "colab": {
          "base_uri": "https://localhost:8080/"
        },
        "id": "eblcI4NX3ZgG",
        "outputId": "d3b3c371-ce8f-446c-e9bf-b16b57081d8f"
      },
      "outputs": [
        {
          "output_type": "stream",
          "name": "stdout",
          "text": [
            "Looking in indexes: https://pypi.org/simple, https://us-python.pkg.dev/colab-wheels/public/simple/\n",
            "Collecting youtube-search\n",
            "  Downloading youtube_search-2.1.2-py3-none-any.whl (3.4 kB)\n",
            "Requirement already satisfied: requests in /usr/local/lib/python3.9/dist-packages (from youtube-search) (2.27.1)\n",
            "Requirement already satisfied: certifi>=2017.4.17 in /usr/local/lib/python3.9/dist-packages (from requests->youtube-search) (2022.12.7)\n",
            "Requirement already satisfied: charset-normalizer~=2.0.0 in /usr/local/lib/python3.9/dist-packages (from requests->youtube-search) (2.0.12)\n",
            "Requirement already satisfied: urllib3<1.27,>=1.21.1 in /usr/local/lib/python3.9/dist-packages (from requests->youtube-search) (1.26.15)\n",
            "Requirement already satisfied: idna<4,>=2.5 in /usr/local/lib/python3.9/dist-packages (from requests->youtube-search) (3.4)\n",
            "Installing collected packages: youtube-search\n",
            "Successfully installed youtube-search-2.1.2\n"
          ]
        }
      ],
      "source": [
        "pip install youtube-search"
      ]
    },
    {
      "cell_type": "code",
      "source": [
        "import youtube_search\n",
        "from youtube_search import YoutubeSearch\n",
        "import webbrowser\n",
        "mysong = input('Nhap vao ten bai hat:')\n",
        "result = YoutubeSearch(mysong, max_results =10).to_dict()\n",
        "print(result)\n",
        "print(result[0]['url_suffix'])\n",
        "url ='https://www.youtube.com/'+result[0]['url_suffix']\n",
        "print(url)\n",
        "webbrowser.open(url)"
      ],
      "metadata": {
        "colab": {
          "base_uri": "https://localhost:8080/"
        },
        "id": "hem4SFCB5ZBB",
        "outputId": "e9c19fa5-df12-4730-c3d4-73ba30c8da34"
      },
      "execution_count": 11,
      "outputs": [
        {
          "output_type": "stream",
          "name": "stdout",
          "text": [
            "Nhap vao ten bai hat:chạy ngay đi\n",
            "[{'id': '32sYGCOYJUM', 'thumbnails': ['https://i.ytimg.com/vi/32sYGCOYJUM/hq720.jpg?sqp=-oaymwEjCOgCEMoBSFryq4qpAxUIARUAAAAAGAElAADIQj0AgKJDeAE=&rs=AOn4CLCWjcTm6e5xSNSRsHprzG45s3szBg', 'https://i.ytimg.com/vi/32sYGCOYJUM/hq720.jpg?sqp=-oaymwEXCNAFEJQDSFryq4qpAwkIARUAAIhCGAE=&rs=AOn4CLAZDHzOarWkyn77G8TOzYH76A3U_g'], 'title': 'CHẠY NGAY ĐI | RUN NOW | SƠN TÙNG M-TP | Official Music Video', 'long_desc': None, 'channel': 'Sơn Tùng M-TP Official', 'duration': '4:34', 'views': '153,622,927 views', 'publish_time': '4 years ago', 'url_suffix': '/watch?v=32sYGCOYJUM&pp=ygUPY2jhuqF5IG5nYXkgxJFp'}, {'id': '-vtBgNxMyZI', 'thumbnails': ['https://i.ytimg.com/vi/-vtBgNxMyZI/hq720.jpg?sqp=-oaymwEjCOgCEMoBSFryq4qpAxUIARUAAAAAGAElAADIQj0AgKJDeAE=&rs=AOn4CLAo3uFusrUkp0hQNaLNzm22kQhK-w', 'https://i.ytimg.com/vi/-vtBgNxMyZI/hq720.jpg?sqp=-oaymwEXCNAFEJQDSFryq4qpAwkIARUAAIhCGAE=&rs=AOn4CLCHNUJA3yWIENtgUu6lNZxWh1HL5g'], 'title': 'CHẠY NGAY ĐI (ONIONN REMIX)| RUN NOW (ONIONN REMIX) | SƠN TÙNG M-TP | Official Music Video', 'long_desc': None, 'channel': 'Sơn Tùng M-TP Official', 'duration': '5:17', 'views': '33,945,154 views', 'publish_time': '4 years ago', 'url_suffix': '/watch?v=-vtBgNxMyZI&pp=ygUPY2jhuqF5IG5nYXkgxJFp'}, {'id': 'ELXKUpZPr9U', 'thumbnails': ['https://i.ytimg.com/vi/ELXKUpZPr9U/hq720.jpg?sqp=-oaymwEjCOgCEMoBSFryq4qpAxUIARUAAAAAGAElAADIQj0AgKJDeAE=&rs=AOn4CLDdGFHFNXz5yf4iwxHA1Jm4-ZPkew', 'https://i.ytimg.com/vi/ELXKUpZPr9U/hq720.jpg?sqp=-oaymwEXCNAFEJQDSFryq4qpAwkIARUAAIhCGAE=&rs=AOn4CLBBGcEfuFNfZhPGqunaOZ50cKVdyA'], 'title': 'Chạy ngay đi - (sped up)', 'long_desc': None, 'channel': 'Zach', 'duration': '2:43', 'views': '146,630 views', 'publish_time': '10 months ago', 'url_suffix': '/watch?v=ELXKUpZPr9U&pp=ygUPY2jhuqF5IG5nYXkgxJFp'}, {'id': 'JY7OD9QhV-I', 'thumbnails': ['https://i.ytimg.com/vi/JY7OD9QhV-I/hq720.jpg?sqp=-oaymwEjCOgCEMoBSFryq4qpAxUIARUAAAAAGAElAADIQj0AgKJDeAE=&rs=AOn4CLAozFkv-poNOGjXl8_mXoAa4Bjgog', 'https://i.ytimg.com/vi/JY7OD9QhV-I/hq720.jpg?sqp=-oaymwEXCNAFEJQDSFryq4qpAwkIARUAAIhCGAE=&rs=AOn4CLAARiLUS_JRirqZf2G829G0bI_b9A'], 'title': 'Chạy ngay đi Búp Bê !!! Tất cả mọi người trong trường học đã trở thành xác sống - Tổng hợp video hay', 'long_desc': None, 'channel': 'Bunny Funny Tiếng Việt', 'duration': '28:41', 'views': '1,603,710 views', 'publish_time': '8 months ago', 'url_suffix': '/watch?v=JY7OD9QhV-I&pp=ygUPY2jhuqF5IG5nYXkgxJFp'}, {'id': 'xGtfLqPxFjM', 'thumbnails': ['https://i.ytimg.com/vi/xGtfLqPxFjM/hq720.jpg?sqp=-oaymwEjCOgCEMoBSFryq4qpAxUIARUAAAAAGAElAADIQj0AgKJDeAE=&rs=AOn4CLBmKOVXxot7NFFRnrbioGtFPVsNeQ', 'https://i.ytimg.com/vi/xGtfLqPxFjM/hq720.jpg?sqp=-oaymwEXCNAFEJQDSFryq4qpAwkIARUAAIhCGAE=&rs=AOn4CLDPVPBc2-nGMiy-sIYhsIqWhHs1mg'], 'title': 'CHẠY NGAY ĐI - TRUNG RUỒI, MINH TÍT, THƯƠNG CIN - MV PARODY | PHIM CA NHẠC', 'long_desc': None, 'channel': 'Trung Ruồi Official ', 'duration': '9:58', 'views': '79,855,916 views', 'publish_time': '4 years ago', 'url_suffix': '/watch?v=xGtfLqPxFjM&pp=ygUPY2jhuqF5IG5nYXkgxJFp'}, {'id': '4Z5G-81SJa4', 'thumbnails': ['https://i.ytimg.com/vi/4Z5G-81SJa4/hq720.jpg?sqp=-oaymwEjCOgCEMoBSFryq4qpAxUIARUAAAAAGAElAADIQj0AgKJDeAE=&rs=AOn4CLDT6EoCVhMS9bRUFAoVlemxSO4QIw', 'https://i.ytimg.com/vi/4Z5G-81SJa4/hq720.jpg?sqp=-oaymwEXCNAFEJQDSFryq4qpAwkIARUAAIhCGAE=&rs=AOn4CLD3CD-UFvpUXMw4HxgZG66FyyAJ_w'], 'title': '《和訳》𝙏𝙞𝙠 𝙏𝙤𝙠で流行ってる曲 |  Chạy Ngay Đi (Onionn Remix ) - Sơn Tùng M-TP', 'long_desc': None, 'channel': 'Bad Mood', 'duration': '2:45', 'views': '427,527 views', 'publish_time': '10 months ago', 'url_suffix': '/watch?v=4Z5G-81SJa4&pp=ygUPY2jhuqF5IG5nYXkgxJFp'}, {'id': 'ujS-ushyaWM', 'thumbnails': ['https://i.ytimg.com/vi/ujS-ushyaWM/hq720.jpg?sqp=-oaymwE9COgCEMoBSFryq4qpAy8IARUAAAAAGAElAADIQj0AgKJDeAHwAQH4Af4JgALQBYoCDAgAEAEYZSBPKE0wDw==&rs=AOn4CLCZlk0Z-2qgidCuHm2klbozLNG-aw', 'https://i.ytimg.com/vi/ujS-ushyaWM/hq720.jpg?sqp=-oaymwExCNAFEJQDSFryq4qpAyMIARUAAIhCGAHwAQH4Af4JgALQBYoCDAgAEAEYZSBPKE0wDw==&rs=AOn4CLBqt7PDJo6s3f11djLEz_W23UCa5w'], 'title': 'CHẠY NGAY ĐI ( ONIONN REMIX ) // SƠN TÙNG M-TP [ Edit Audio ]', 'long_desc': None, 'channel': 'alxnvs', 'duration': '0:24', 'views': '531,598 views', 'publish_time': '11 months ago', 'url_suffix': '/watch?v=ujS-ushyaWM&pp=ygUPY2jhuqF5IG5nYXkgxJFp'}, {'id': 'TY82PxEqYH0', 'thumbnails': ['https://i.ytimg.com/vi/TY82PxEqYH0/hq720.jpg?sqp=-oaymwE9COgCEMoBSFryq4qpAy8IARUAAAAAGAElAADIQj0AgKJDeAHwAQH4AfYJgALQBYoCDAgAEAEYJSAxKH8wDw==&rs=AOn4CLCq0yWqq4ff8JREX3MJ8w46n2IH1Q', 'https://i.ytimg.com/vi/TY82PxEqYH0/hq720.jpg?sqp=-oaymwExCNAFEJQDSFryq4qpAyMIARUAAIhCGAHwAQH4AfYJgALQBYoCDAgAEAEYJSAxKH8wDw==&rs=AOn4CLDAYcK1MSBaDWTOcqR1ugWMPLVgwA'], 'title': 'CHẠY NGAY ĐI || SOLV REMIX ( HOT TIK TOK )', 'long_desc': None, 'channel': 'KA-13', 'duration': '4:09', 'views': '7,277 views', 'publish_time': '13 days ago', 'url_suffix': '/watch?v=TY82PxEqYH0&pp=ygUPY2jhuqF5IG5nYXkgxJFp'}, {'id': 'V7EqtaI2jHk', 'thumbnails': ['https://i.ytimg.com/vi/V7EqtaI2jHk/hq720.jpg?sqp=-oaymwE9COgCEMoBSFryq4qpAy8IARUAAAAAGAElAADIQj0AgKJDeAHwAQH4Af4JgAK0BYoCDAgAEAEYSyBlKEcwDw==&rs=AOn4CLChu4Vbw67Q6AvkvsWshVYKAtd8DA', 'https://i.ytimg.com/vi/V7EqtaI2jHk/hq720.jpg?sqp=-oaymwExCNAFEJQDSFryq4qpAyMIARUAAIhCGAHwAQH4Af4JgAK0BYoCDAgAEAEYSyBlKEcwDw==&rs=AOn4CLCwD1LH6saJ8YYPnIioXl_HzycN7Q'], 'title': 'chay ngay di (onionn remix) - sped up', 'long_desc': None, 'channel': 'aicoh!', 'duration': '2:49', 'views': '704,863 views', 'publish_time': '10 months ago', 'url_suffix': '/watch?v=V7EqtaI2jHk&pp=ygUPY2jhuqF5IG5nYXkgxJFp'}, {'id': 'mT4arhSPIDU', 'thumbnails': ['https://i.ytimg.com/vi/mT4arhSPIDU/hq720.jpg?sqp=-oaymwEjCOgCEMoBSFryq4qpAxUIARUAAAAAGAElAADIQj0AgKJDeAE=&rs=AOn4CLDw1sgS30v2DXefp0bjwwKf07wocQ', 'https://i.ytimg.com/vi/mT4arhSPIDU/hq720.jpg?sqp=-oaymwEXCNAFEJQDSFryq4qpAwkIARUAAIhCGAE=&rs=AOn4CLDol7K9B7iiMqItzmi7KtI9ytzGqQ'], 'title': 'CHẠY NGAY ĐI | SƠN TÙNG M-TP | TIGER REMIX STAGE VERSION | HỒ CHÍ MINH 31.12.2018', 'long_desc': None, 'channel': 'Sơn Tùng M-TP Official', 'duration': '6:50', 'views': '4,681,284 views', 'publish_time': '4 years ago', 'url_suffix': '/watch?v=mT4arhSPIDU&pp=ygUPY2jhuqF5IG5nYXkgxJFp'}]\n",
            "/watch?v=32sYGCOYJUM&pp=ygUPY2jhuqF5IG5nYXkgxJFp\n",
            "https://www.youtube.com//watch?v=32sYGCOYJUM&pp=ygUPY2jhuqF5IG5nYXkgxJFp\n"
          ]
        },
        {
          "output_type": "execute_result",
          "data": {
            "text/plain": [
              "False"
            ]
          },
          "metadata": {},
          "execution_count": 11
        }
      ]
    },
    {
      "cell_type": "code",
      "source": [
        "from openpyxl import Workbook\n",
        "from youtube_search import YoutubeSearch\n",
        "import webbrowser\n",
        "\n",
        "data = Workbook()\n",
        "sheet = data.active\n",
        "mysong = input('Xin nhap ten bai hat: ')\n",
        "result = YoutubeSearch(mysong, max_results=10).to_dict()\n",
        "\n",
        "for i in range(10):\n",
        "    print(result[i]['title'])\n",
        "    print(result[i]['url_suffix'])\n",
        "    url = 'http://www.youtube.com' + result[i]['url_suffix']\n",
        "    print(url)\n",
        "    sheet['A'+str(i+1)] = i+1\n",
        "    sheet['B'+str(i+1)] = result[i]['title']\n",
        "    sheet['C'+str(i+1)] = result[i]['url_suffix']\n",
        "    sheet['D'+str(i+1)] = url\n",
        "    webbrowser.open(url)\n",
        "\n",
        "data.save('nhac.xlsx')"
      ],
      "metadata": {
        "colab": {
          "base_uri": "https://localhost:8080/"
        },
        "id": "BiRU-DDqAJa_",
        "outputId": "8dc520de-2ac5-48dc-99f0-26fa88b920f9"
      },
      "execution_count": 12,
      "outputs": [
        {
          "output_type": "stream",
          "name": "stdout",
          "text": [
            "Xin nhap ten bai hat: chay ngay di\n",
            "CHẠY NGAY ĐI (ONIONN REMIX)| RUN NOW (ONIONN REMIX) | SƠN TÙNG M-TP | Official Music Video\n",
            "/watch?v=-vtBgNxMyZI&pp=ygUMY2hheSBuZ2F5IGRp\n",
            "http://www.youtube.com/watch?v=-vtBgNxMyZI&pp=ygUMY2hheSBuZ2F5IGRp\n",
            "CHẠY NGAY ĐI | RUN NOW | SƠN TÙNG M-TP | Official Music Video\n",
            "/watch?v=32sYGCOYJUM&pp=ygUMY2hheSBuZ2F5IGRp\n",
            "http://www.youtube.com/watch?v=32sYGCOYJUM&pp=ygUMY2hheSBuZ2F5IGRp\n",
            "Chạy ngay đi - (sped up)\n",
            "/watch?v=ELXKUpZPr9U&pp=ygUMY2hheSBuZ2F5IGRp\n",
            "http://www.youtube.com/watch?v=ELXKUpZPr9U&pp=ygUMY2hheSBuZ2F5IGRp\n",
            "Anya& Damian  Chạy Ngay Đi (Onion Remix)\n",
            "/shorts/vBIEIG5VrmI\n",
            "http://www.youtube.com/shorts/vBIEIG5VrmI\n",
            "Spy x Family 4K Edit (Franky)\n",
            "/shorts/5VhAaYyjzZA\n",
            "http://www.youtube.com/shorts/5VhAaYyjzZA\n",
            "Miyamura Edit // Chay Ngay Di // Capcut\n",
            "/shorts/OZ2LG5ERZAw\n",
            "http://www.youtube.com/shorts/OZ2LG5ERZAw\n",
            "Đức Phúc lầy lội khi cover hit Chạy Ngay Đi của Sơn Tùng M-TP | HÓNG HỚT SHOWBIZ\n",
            "/shorts/QM4x_R85NcI\n",
            "http://www.youtube.com/shorts/QM4x_R85NcI\n",
            "chay ngay di — kamisato ayato edit\n",
            "/shorts/ERcBApuFJAI\n",
            "http://www.youtube.com/shorts/ERcBApuFJAI\n",
            "《和訳》𝙏𝙞𝙠 𝙏𝙤𝙠で流行ってる曲 |  Chạy Ngay Đi (Onionn Remix ) - Sơn Tùng M-TP\n",
            "/watch?v=4Z5G-81SJa4&pp=ygUMY2hheSBuZ2F5IGRp\n",
            "http://www.youtube.com/watch?v=4Z5G-81SJa4&pp=ygUMY2hheSBuZ2F5IGRp\n",
            "chay ngay di (onionn remix) - sped up\n",
            "/watch?v=V7EqtaI2jHk&pp=ygUMY2hheSBuZ2F5IGRp\n",
            "http://www.youtube.com/watch?v=V7EqtaI2jHk&pp=ygUMY2hheSBuZ2F5IGRp\n"
          ]
        }
      ]
    },
    {
      "cell_type": "code",
      "source": [
        "pip install SpeechRecognition pydub"
      ],
      "metadata": {
        "colab": {
          "base_uri": "https://localhost:8080/"
        },
        "id": "drTy-qm9-7Mt",
        "outputId": "7e297881-7eb0-49fb-abfe-dcdcc0b77c93"
      },
      "execution_count": 22,
      "outputs": [
        {
          "output_type": "stream",
          "name": "stdout",
          "text": [
            "Looking in indexes: https://pypi.org/simple, https://us-python.pkg.dev/colab-wheels/public/simple/\n",
            "Requirement already satisfied: SpeechRecognition in /usr/local/lib/python3.9/dist-packages (3.10.0)\n",
            "Requirement already satisfied: pydub in /usr/local/lib/python3.9/dist-packages (0.25.1)\n",
            "Requirement already satisfied: requests>=2.26.0 in /usr/local/lib/python3.9/dist-packages (from SpeechRecognition) (2.27.1)\n",
            "Requirement already satisfied: idna<4,>=2.5 in /usr/local/lib/python3.9/dist-packages (from requests>=2.26.0->SpeechRecognition) (3.4)\n",
            "Requirement already satisfied: charset-normalizer~=2.0.0 in /usr/local/lib/python3.9/dist-packages (from requests>=2.26.0->SpeechRecognition) (2.0.12)\n",
            "Requirement already satisfied: urllib3<1.27,>=1.21.1 in /usr/local/lib/python3.9/dist-packages (from requests>=2.26.0->SpeechRecognition) (1.26.15)\n",
            "Requirement already satisfied: certifi>=2017.4.17 in /usr/local/lib/python3.9/dist-packages (from requests>=2.26.0->SpeechRecognition) (2022.12.7)\n"
          ]
        }
      ]
    },
    {
      "cell_type": "code",
      "source": [
        "from google.colab import drive\n",
        "drive.mount('/content/drive')"
      ],
      "metadata": {
        "colab": {
          "base_uri": "https://localhost:8080/"
        },
        "id": "4VT9XBdtEBED",
        "outputId": "466e5a9a-2238-45f9-dae4-7c6d3ec10243"
      },
      "execution_count": 16,
      "outputs": [
        {
          "output_type": "stream",
          "name": "stdout",
          "text": [
            "Mounted at /content/drive\n"
          ]
        }
      ]
    },
    {
      "cell_type": "code",
      "source": [
        "file = '/content/drive/MyDrive/Nhac/male.wav'\n",
        "import speech_recognition as sr\n",
        "r=sr.Recognizer()\n",
        "with sr.AudioFile(file) as source:\n",
        "  audio_data=r.record(source)\n",
        "  text = r.recognize_google(audio_data)\n",
        "  print(text)"
      ],
      "metadata": {
        "colab": {
          "base_uri": "https://localhost:8080/"
        },
        "id": "iJz9LGnZ8ZzD",
        "outputId": "71ec8dca-9cce-41f6-8419-36924847180c"
      },
      "execution_count": 28,
      "outputs": [
        {
          "output_type": "stream",
          "name": "stdout",
          "text": [
            "what if somebody decides to break it be careful that you keep adequate coverage but look for places to save money baby it's taking longer to get things squared away than the bankers expected during the wife for once company may win her tax hated retirement income as helpful as our cost on the two naked bone when the title of this type of song is in question there's no dying or waxing or gassing needed maybe personalized leather hard place work on a flat surface and smooth out the simplest kind of separate system uses a single self-contained unit the old shop at it still holds a good mechanic is usually a bad boss both figures would go higher in later years doll houses at set\n"
          ]
        }
      ]
    },
    {
      "cell_type": "code",
      "source": [
        "test = sr.Recognizer()\n",
        "with sr.AudioFile(file) as source:\n",
        "  audio1 = r.record(source, duration=4)\n",
        "  audio2 = r.record(source, duration=10)\n",
        "  audio3 = r.record(source, offset=4, duration=10)\n",
        "\n",
        "print(r.recognize_google(audio1))\n",
        "print(r.recognize_google(audio2))\n",
        "print(r.recognize_google(audio3))"
      ],
      "metadata": {
        "colab": {
          "base_uri": "https://localhost:8080/"
        },
        "id": "dyEi6KmBJhWd",
        "outputId": "7c1befe2-6d49-49af-b5bc-502f444d2c57"
      },
      "execution_count": 31,
      "outputs": [
        {
          "output_type": "stream",
          "name": "stdout",
          "text": [
            "what if somebody decides to break it be careful that you keep attic\n",
            "but look for places to save money baby it's taking longer to get things squared away than the bankers expected hiring the Y for one company may win her tie\n",
            "Elsa saving Rags are hers latest on the two naked bone into when the title of this type of song is in question there's no dying or waxing\n"
          ]
        }
      ]
    },
    {
      "cell_type": "code",
      "source": [
        "import speech_recognition as sr\n",
        "\n",
        "r = sr.Recognizer()\n",
        "with sr.AudioFile('/content/drive/MyDrive/Nhac/male.wav') as source:\n",
        "  audio = r.record(source)\n",
        "r.recognize_google(audio, language = 'fr_GB')"
      ],
      "metadata": {
        "colab": {
          "base_uri": "https://localhost:8080/",
          "height": 35
        },
        "id": "tly6SCFaDBIS",
        "outputId": "bb567a48-fd15-4f14-93fd-2c1e518c864e"
      },
      "execution_count": 30,
      "outputs": [
        {
          "output_type": "execute_result",
          "data": {
            "text/plain": [
              "'mairie de Brech'"
            ],
            "application/vnd.google.colaboratory.intrinsic+json": {
              "type": "string"
            }
          },
          "metadata": {},
          "execution_count": 30
        }
      ]
    },
    {
      "cell_type": "code",
      "source": [
        "pip install gTTS"
      ],
      "metadata": {
        "colab": {
          "base_uri": "https://localhost:8080/"
        },
        "id": "6nUbv2fHKQz6",
        "outputId": "845bd8d0-671c-4483-9125-4a1e42bd25a6"
      },
      "execution_count": 34,
      "outputs": [
        {
          "output_type": "stream",
          "name": "stdout",
          "text": [
            "Looking in indexes: https://pypi.org/simple, https://us-python.pkg.dev/colab-wheels/public/simple/\n",
            "Requirement already satisfied: gTTS in /usr/local/lib/python3.9/dist-packages (2.3.1)\n",
            "Requirement already satisfied: requests<3,>=2.27 in /usr/local/lib/python3.9/dist-packages (from gTTS) (2.27.1)\n",
            "Requirement already satisfied: click<8.2,>=7.1 in /usr/local/lib/python3.9/dist-packages (from gTTS) (8.1.3)\n",
            "Requirement already satisfied: certifi>=2017.4.17 in /usr/local/lib/python3.9/dist-packages (from requests<3,>=2.27->gTTS) (2022.12.7)\n",
            "Requirement already satisfied: idna<4,>=2.5 in /usr/local/lib/python3.9/dist-packages (from requests<3,>=2.27->gTTS) (3.4)\n",
            "Requirement already satisfied: urllib3<1.27,>=1.21.1 in /usr/local/lib/python3.9/dist-packages (from requests<3,>=2.27->gTTS) (1.26.15)\n",
            "Requirement already satisfied: charset-normalizer~=2.0.0 in /usr/local/lib/python3.9/dist-packages (from requests<3,>=2.27->gTTS) (2.0.12)\n"
          ]
        }
      ]
    },
    {
      "cell_type": "code",
      "source": [
        "from gtts import gTTS\n",
        "import os\n",
        "\n",
        "A = 'Zao sheng hao zung wo, shenzai wai-oh bing chillingg, Wo han she huầy bing chilling'\n",
        "speak = gTTS(text=A, lang= 'zh', slow = False)\n",
        "speak.save('anhyeuem.mp3')\n",
        "\n",
        "#playsound('Speech.mp3')\n",
        "#os.remove('Speech.mp3')\n",
        "print(text)"
      ],
      "metadata": {
        "colab": {
          "base_uri": "https://localhost:8080/"
        },
        "id": "x7hMGQY2Mx5G",
        "outputId": "b21dbaa1-929d-4220-8e38-c0d6949e1798"
      },
      "execution_count": 56,
      "outputs": [
        {
          "output_type": "stream",
          "name": "stdout",
          "text": [
            "what if somebody decides to break it be careful that you keep adequate coverage but look for places to save money baby it's taking longer to get things squared away than the bankers expected during the wife for once company may win her tax hated retirement income as helpful as our cost on the two naked bone when the title of this type of song is in question there's no dying or waxing or gassing needed maybe personalized leather hard place work on a flat surface and smooth out the simplest kind of separate system uses a single self-contained unit the old shop at it still holds a good mechanic is usually a bad boss both figures would go higher in later years doll houses at set\n"
          ]
        }
      ]
    },
    {
      "cell_type": "code",
      "source": [
        "pip install googletrans==3.1.0a0"
      ],
      "metadata": {
        "colab": {
          "base_uri": "https://localhost:8080/",
          "height": 956
        },
        "id": "rKRu8FUYOaE0",
        "outputId": "7b47810d-8645-4100-f75a-e07d6a433e74"
      },
      "execution_count": 59,
      "outputs": [
        {
          "output_type": "stream",
          "name": "stdout",
          "text": [
            "Looking in indexes: https://pypi.org/simple, https://us-python.pkg.dev/colab-wheels/public/simple/\n",
            "Collecting googletrans==3.1.0a0\n",
            "  Downloading googletrans-3.1.0a0.tar.gz (19 kB)\n",
            "  Preparing metadata (setup.py) ... \u001b[?25l\u001b[?25hdone\n",
            "Collecting httpx==0.13.3\n",
            "  Downloading httpx-0.13.3-py3-none-any.whl (55 kB)\n",
            "\u001b[2K     \u001b[90m━━━━━━━━━━━━━━━━━━━━━━━━━━━━━━━━━━━━━━━━\u001b[0m \u001b[32m55.1/55.1 kB\u001b[0m \u001b[31m3.5 MB/s\u001b[0m eta \u001b[36m0:00:00\u001b[0m\n",
            "\u001b[?25hCollecting hstspreload\n",
            "  Downloading hstspreload-2023.1.1-py3-none-any.whl (1.5 MB)\n",
            "\u001b[2K     \u001b[90m━━━━━━━━━━━━━━━━━━━━━━━━━━━━━━━━━━━━━━━━\u001b[0m \u001b[32m1.5/1.5 MB\u001b[0m \u001b[31m29.3 MB/s\u001b[0m eta \u001b[36m0:00:00\u001b[0m\n",
            "\u001b[?25hCollecting chardet==3.*\n",
            "  Downloading chardet-3.0.4-py2.py3-none-any.whl (133 kB)\n",
            "\u001b[2K     \u001b[90m━━━━━━━━━━━━━━━━━━━━━━━━━━━━━━━━━━━━━━\u001b[0m \u001b[32m133.4/133.4 kB\u001b[0m \u001b[31m18.4 MB/s\u001b[0m eta \u001b[36m0:00:00\u001b[0m\n",
            "\u001b[?25hCollecting httpcore==0.9.*\n",
            "  Downloading httpcore-0.9.1-py3-none-any.whl (42 kB)\n",
            "\u001b[2K     \u001b[90m━━━━━━━━━━━━━━━━━━━━━━━━━━━━━━━━━━━━━━━━\u001b[0m \u001b[32m42.6/42.6 kB\u001b[0m \u001b[31m6.2 MB/s\u001b[0m eta \u001b[36m0:00:00\u001b[0m\n",
            "\u001b[?25hCollecting rfc3986<2,>=1.3\n",
            "  Downloading rfc3986-1.5.0-py2.py3-none-any.whl (31 kB)\n",
            "Collecting idna==2.*\n",
            "  Downloading idna-2.10-py2.py3-none-any.whl (58 kB)\n",
            "\u001b[2K     \u001b[90m━━━━━━━━━━━━━━━━━━━━━━━━━━━━━━━━━━━━━━━━\u001b[0m \u001b[32m58.8/58.8 kB\u001b[0m \u001b[31m8.7 MB/s\u001b[0m eta \u001b[36m0:00:00\u001b[0m\n",
            "\u001b[?25hRequirement already satisfied: certifi in /usr/local/lib/python3.9/dist-packages (from httpx==0.13.3->googletrans==3.1.0a0) (2022.12.7)\n",
            "Requirement already satisfied: sniffio in /usr/local/lib/python3.9/dist-packages (from httpx==0.13.3->googletrans==3.1.0a0) (1.3.0)\n",
            "Collecting h2==3.*\n",
            "  Downloading h2-3.2.0-py2.py3-none-any.whl (65 kB)\n",
            "\u001b[2K     \u001b[90m━━━━━━━━━━━━━━━━━━━━━━━━━━━━━━━━━━━━━━━━\u001b[0m \u001b[32m65.0/65.0 kB\u001b[0m \u001b[31m9.3 MB/s\u001b[0m eta \u001b[36m0:00:00\u001b[0m\n",
            "\u001b[?25hCollecting h11<0.10,>=0.8\n",
            "  Downloading h11-0.9.0-py2.py3-none-any.whl (53 kB)\n",
            "\u001b[2K     \u001b[90m━━━━━━━━━━━━━━━━━━━━━━━━━━━━━━━━━━━━━━━━\u001b[0m \u001b[32m53.6/53.6 kB\u001b[0m \u001b[31m8.4 MB/s\u001b[0m eta \u001b[36m0:00:00\u001b[0m\n",
            "\u001b[?25hCollecting hyperframe<6,>=5.2.0\n",
            "  Downloading hyperframe-5.2.0-py2.py3-none-any.whl (12 kB)\n",
            "Collecting hpack<4,>=3.0\n",
            "  Downloading hpack-3.0.0-py2.py3-none-any.whl (38 kB)\n",
            "Building wheels for collected packages: googletrans\n",
            "  Building wheel for googletrans (setup.py) ... \u001b[?25l\u001b[?25hdone\n",
            "  Created wheel for googletrans: filename=googletrans-3.1.0a0-py3-none-any.whl size=16368 sha256=230a7c6a78b0d2ccbe9cc657b845865aacc17be52ad2f2be0cb722b60f1c201c\n",
            "  Stored in directory: /root/.cache/pip/wheels/ae/e1/6c/5137bc3f35aa130deea71575e165cc4f4f0680a88f3d90a636\n",
            "Successfully built googletrans\n",
            "Installing collected packages: rfc3986, hyperframe, hpack, h11, chardet, idna, hstspreload, h2, httpcore, httpx, googletrans\n",
            "  Attempting uninstall: chardet\n",
            "    Found existing installation: chardet 4.0.0\n",
            "    Uninstalling chardet-4.0.0:\n",
            "      Successfully uninstalled chardet-4.0.0\n",
            "  Attempting uninstall: idna\n",
            "    Found existing installation: idna 3.4\n",
            "    Uninstalling idna-3.4:\n",
            "      Successfully uninstalled idna-3.4\n",
            "Successfully installed chardet-3.0.4 googletrans-3.1.0a0 h11-0.9.0 h2-3.2.0 hpack-3.0.0 hstspreload-2023.1.1 httpcore-0.9.1 httpx-0.13.3 hyperframe-5.2.0 idna-2.10 rfc3986-1.5.0\n"
          ]
        },
        {
          "output_type": "display_data",
          "data": {
            "application/vnd.colab-display-data+json": {
              "pip_warning": {
                "packages": [
                  "chardet",
                  "idna"
                ]
              }
            }
          },
          "metadata": {}
        }
      ]
    },
    {
      "cell_type": "code",
      "source": [
        "from googletrans import Translator\n",
        "translator = Translator()\n",
        "translator = translator.translate('Hong be oi', dest='ru')\n",
        "print(translator.text) "
      ],
      "metadata": {
        "colab": {
          "base_uri": "https://localhost:8080/"
        },
        "id": "GK4SL3stSQ-e",
        "outputId": "d6340854-2a1b-4dd4-99ee-8fdf3ee639cd"
      },
      "execution_count": 68,
      "outputs": [
        {
          "output_type": "stream",
          "name": "stdout",
          "text": [
            "Хонг Бэ Ой\n"
          ]
        }
      ]
    },
    {
      "cell_type": "code",
      "source": [
        "from gtts import gTTS\n",
        "import os\n",
        "\n",
        "A = 'Zao sheng hao zung wo, shenzai wai-oh bing chillingg, Wo han she huầy bing chilling'\n",
        "speak = gTTS(text=A, lang= 'zh', slow = False)\n",
        "speak.save('oaz.mp3')\n",
        "\n",
        "#playsound('Speech.mp3')\n",
        "#os.remove('Speech.mp3')\n",
        "print(text)"
      ],
      "metadata": {
        "colab": {
          "base_uri": "https://localhost:8080/"
        },
        "id": "in6zSGK9Te3f",
        "outputId": "c4b31bc7-3eb2-42e9-8965-49c49ebc6237"
      },
      "execution_count": 62,
      "outputs": [
        {
          "output_type": "stream",
          "name": "stdout",
          "text": [
            "what if somebody decides to break it be careful that you keep adequate coverage but look for places to save money baby it's taking longer to get things squared away than the bankers expected during the wife for once company may win her tax hated retirement income as helpful as our cost on the two naked bone when the title of this type of song is in question there's no dying or waxing or gassing needed maybe personalized leather hard place work on a flat surface and smooth out the simplest kind of separate system uses a single self-contained unit the old shop at it still holds a good mechanic is usually a bad boss both figures would go higher in later years doll houses at set\n"
          ]
        }
      ]
    },
    {
      "cell_type": "code",
      "source": [
        "pip install python_speech_features==0.4"
      ],
      "metadata": {
        "colab": {
          "base_uri": "https://localhost:8080/"
        },
        "id": "X8_G-mjpaVBT",
        "outputId": "eda2c7b5-ad3c-4800-eb0a-49834b306650"
      },
      "execution_count": 73,
      "outputs": [
        {
          "output_type": "stream",
          "name": "stdout",
          "text": [
            "Looking in indexes: https://pypi.org/simple, https://us-python.pkg.dev/colab-wheels/public/simple/\n",
            "Requirement already satisfied: python_speech_features==0.4 in /usr/local/lib/python3.9/dist-packages (0.4)\n"
          ]
        }
      ]
    },
    {
      "cell_type": "code",
      "source": [
        "import numpy as np\n",
        "import matplotlib.pyplot as plt\n",
        "from scipy.io import wavfile\n",
        "from python_speech_features import mfcc, logfbank\n",
        "\n",
        "frequency_sample, audio_signal= wavfile.read('/content/drive/MyDrive/Nhac/tiengchimhot.wav')\n",
        "audio_signal= audio_signal[:1500]\n",
        "feature_mfcc=mfcc(audio_signal,frequency_sample)\n",
        "print('\\nMFCC:\\n Number of windows=', feature_mfcc.shape[0])\n",
        "print('Length of each feature:',feature_mfcc.shape[1])\n",
        "feature_mfcc=feature_mfcc.T\n",
        "plt.matshow(feature_mfcc)\n",
        "plt.title('MFCC')\n",
        "filterbank_feature=logfbank(audio_signal, frequency_sample)\n",
        "print('\\nFilter bank:\\n Number of windows=', filterbank_feature.shape[0])\n",
        "print('Length of each feature:', filterbank_feature.shape[1])\n",
        "filterbank_feature=filterbank_feature.T\n",
        "plt.matshow(filterbank_feature)\n",
        "plt.title('filter bank')\n",
        "plt.show()\n",
        "\n"
      ],
      "metadata": {
        "colab": {
          "base_uri": "https://localhost:8080/",
          "height": 1000
        },
        "id": "i8MbNoCrYlGy",
        "outputId": "e37bcb56-7f39-420a-85fa-09e1eee72ad1"
      },
      "execution_count": 81,
      "outputs": [
        {
          "output_type": "stream",
          "name": "stdout",
          "text": [
            "\n",
            "MFCC:\n",
            " Number of windows= 2\n",
            "Length of each feature: 13\n",
            "\n",
            "Filter bank:\n",
            " Number of windows= 2\n",
            "Length of each feature: 26\n"
          ]
        },
        {
          "output_type": "display_data",
          "data": {
            "text/plain": [
              "<Figure size 400x1600 with 1 Axes>"
            ],
            "image/png": "[encoded data removed]"
          },
          "metadata": {}
        },
        {
          "output_type": "display_data",
          "data": {
            "text/plain": [
              "<Figure size 400x1600 with 1 Axes>"
            ],
            "image/png": "[encoded data removed]"
          },
          "metadata": {}
        }
      ]
    },
    {
      "cell_type": "code",
      "source": [],
      "metadata": {
        "id": "nwtOVyuYdSeA"
      },
      "execution_count": null,
      "outputs": []
    }
  ]
}