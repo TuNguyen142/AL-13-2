{
  "nbformat": 4,
  "nbformat_minor": 0,
  "metadata": {
    "colab": {
      "provenance": [],
      "authorship_tag": "ABX9TyMm8bDdvJuG50gnmeI9Xw9Q",
      "include_colab_link": true
    },
    "kernelspec": {
      "name": "python3",
      "display_name": "Python 3"
    },
    "language_info": {
      "name": "python"
    }
  },
  "cells": [
    {
      "cell_type": "markdown",
      "metadata": {
        "id": "view-in-github",
        "colab_type": "text"
      },
      "source": [
        "<a href=\"https://colab.research.google.com/github/TuNguyen142/AL-13-2/blob/main/Heobibenh.ipynb\" target=\"_parent\"><img src=\"https://colab.research.google.com/assets/colab-badge.svg\" alt=\"Open In Colab\"/></a>"
      ]
    },
    {
      "cell_type": "code",
      "execution_count": 1,
      "metadata": {
        "colab": {
          "base_uri": "https://localhost:8080/"
        },
        "id": "aMvsjuJTFls0",
        "outputId": "5ea2f81b-f6b7-4572-d808-a846acbcde2a"
      },
      "outputs": [
        {
          "output_type": "stream",
          "name": "stdout",
          "text": [
            "Mounted at /content/drive\n"
          ]
        }
      ],
      "source": [
        "from google.colab import drive\n",
        "drive.mount('/content/drive')"
      ]
    },
    {
      "cell_type": "code",
      "source": [
        "# Khai báo và sử dụng các thư viện sau\n",
        "from sklearn.model_selection import train_test_split\n",
        "import matplotlib.pyplot as plt\n",
        "import os\n",
        "import numpy as np\n",
        "import tensorflow as tf\n",
        "from keras.utils import np_utils\n",
        "from keras.models import Sequential\n",
        "from keras.layers import Dense, Activation, Dropout, Conv2D, MaxPooling2D, Flatten,  LeakyReLU\n",
        "from tensorflow.keras.optimizers import SGD, RMSprop\n",
        "from keras.callbacks import EarlyStopping, ModelCheckpoint\n",
        "from sklearn.utils import validation \n",
        "from sklearn import preprocessing\n",
        "from tensorflow.keras.utils import to_categorical\n",
        "from tensorflow.keras.models import load_model\n",
        "from tensorflow.keras.utils import load_img, img_to_array\n",
        "from tensorflow.keras.preprocessing.image import ImageDataGenerator"
      ],
      "metadata": {
        "id": "4GfAv9NMFty-"
      },
      "execution_count": 2,
      "outputs": []
    },
    {
      "cell_type": "code",
      "source": [
        "%cd /content/drive/MyDrive/Al/Al\n"
      ],
      "metadata": {
        "colab": {
          "base_uri": "https://localhost:8080/"
        },
        "id": "B_iG_HIUFx3i",
        "outputId": "a1b0c755-de6d-4e0a-f5b3-52fb6c5ec9c8"
      },
      "execution_count": 3,
      "outputs": [
        {
          "output_type": "stream",
          "name": "stdout",
          "text": [
            "/content/drive/MyDrive/Al/Al\n"
          ]
        }
      ]
    },
    {
      "cell_type": "code",
      "source": [
        "# Tạo ra class ImageDataGenerator để chỉnh sửa ảnh \n",
        "train=ImageDataGenerator(rescale=1./255, shear_range=0.2, zoom_range=0.2, horizontal_flip=True)"
      ],
      "metadata": {
        "id": "tcE_IUivF-sd"
      },
      "execution_count": 4,
      "outputs": []
    },
    {
      "cell_type": "code",
      "source": [
        "# Tạo bộ dữ liệu training set\n",
        "training_set=train.flow_from_directory('/content/drive/MyDrive/Al/Al/Train',\n",
        "                                               target_size=(30,40), batch_size=32, class_mode='categorical')"
      ],
      "metadata": {
        "colab": {
          "base_uri": "https://localhost:8080/"
        },
        "id": "nQX9RyJGF_-N",
        "outputId": "929a91fc-2ecb-467d-b12a-d88d4eb042e8"
      },
      "execution_count": 9,
      "outputs": [
        {
          "output_type": "stream",
          "name": "stdout",
          "text": [
            "Found 40 images belonging to 2 classes.\n"
          ]
        }
      ]
    },
    {
      "cell_type": "code",
      "source": [
        "# Các nhãn có trong bộ dữ liệu training set\n",
        "training_set.class_indices"
      ],
      "metadata": {
        "colab": {
          "base_uri": "https://localhost:8080/"
        },
        "id": "whld0VnCGKPh",
        "outputId": "b28da4a7-e4ac-421d-a62d-12aac09ad511"
      },
      "execution_count": 10,
      "outputs": [
        {
          "output_type": "execute_result",
          "data": {
            "text/plain": [
              "{'Bệnh': 0, 'Không bệnh': 1}"
            ]
          },
          "metadata": {},
          "execution_count": 10
        }
      ]
    },
    {
      "cell_type": "code",
      "source": [
        "# Tạo ra mạng CNN để train mô hình\n",
        "model=Sequential()\n",
        "\n",
        "model.add(Conv2D(32,(3,3), activation='linear', kernel_initializer='he_uniform', padding='same',input_shape=(30,40,3))) \n",
        "model.add(LeakyReLU(alpha = 0.1))\n",
        "model.add(MaxPooling2D((2,2), padding = 'same'))\n",
        "\n",
        "\n",
        "model.add(Conv2D(64,(3,3), activation='linear', kernel_initializer='he_uniform', padding='same')) \n",
        "model.add(LeakyReLU(alpha = 0.1))\n",
        "model.add(MaxPooling2D((2,2), padding = 'same'))\n",
        "\n",
        "model.add(Conv2D(128,(3,3), activation='linear', kernel_initializer='he_uniform', padding='same')) \n",
        "model.add(LeakyReLU(alpha = 0.1))\n",
        "model.add(MaxPooling2D((2,2), padding = 'same'))\n",
        "\n",
        "model.add(Flatten())\n",
        "model.add(Dense(256,activation='linear',kernel_initializer='he_uniform'))\n",
        "model.add(Dropout(0.2))\n",
        "model.add(LeakyReLU(alpha = 0.1))\n",
        "model.add(Dense(2,activation='softmax'))\n",
        "\n",
        "# Biên dịch \n",
        "model.compile(optimizer='adam',loss='categorical_crossentropy',metrics=['accuracy'])\n",
        "model.summary()"
      ],
      "metadata": {
        "colab": {
          "base_uri": "https://localhost:8080/"
        },
        "id": "0TSbWr-yGYIz",
        "outputId": "27d4b094-2be4-4aff-c308-0c8bb5272db5"
      },
      "execution_count": 12,
      "outputs": [
        {
          "output_type": "stream",
          "name": "stdout",
          "text": [
            "Model: \"sequential_1\"\n",
            "_________________________________________________________________\n",
            " Layer (type)                Output Shape              Param #   \n",
            "=================================================================\n",
            " conv2d_3 (Conv2D)           (None, 30, 40, 32)        896       \n",
            "                                                                 \n",
            " leaky_re_lu_4 (LeakyReLU)   (None, 30, 40, 32)        0         \n",
            "                                                                 \n",
            " max_pooling2d_3 (MaxPooling  (None, 15, 20, 32)       0         \n",
            " 2D)                                                             \n",
            "                                                                 \n",
            " conv2d_4 (Conv2D)           (None, 15, 20, 64)        18496     \n",
            "                                                                 \n",
            " leaky_re_lu_5 (LeakyReLU)   (None, 15, 20, 64)        0         \n",
            "                                                                 \n",
            " max_pooling2d_4 (MaxPooling  (None, 8, 10, 64)        0         \n",
            " 2D)                                                             \n",
            "                                                                 \n",
            " conv2d_5 (Conv2D)           (None, 8, 10, 128)        73856     \n",
            "                                                                 \n",
            " leaky_re_lu_6 (LeakyReLU)   (None, 8, 10, 128)        0         \n",
            "                                                                 \n",
            " max_pooling2d_5 (MaxPooling  (None, 4, 5, 128)        0         \n",
            " 2D)                                                             \n",
            "                                                                 \n",
            " flatten_1 (Flatten)         (None, 2560)              0         \n",
            "                                                                 \n",
            " dense_2 (Dense)             (None, 256)               655616    \n",
            "                                                                 \n",
            " dropout_1 (Dropout)         (None, 256)               0         \n",
            "                                                                 \n",
            " leaky_re_lu_7 (LeakyReLU)   (None, 256)               0         \n",
            "                                                                 \n",
            " dense_3 (Dense)             (None, 2)                 514       \n",
            "                                                                 \n",
            "=================================================================\n",
            "Total params: 749,378\n",
            "Trainable params: 749,378\n",
            "Non-trainable params: 0\n",
            "_________________________________________________________________\n"
          ]
        }
      ]
    },
    {
      "cell_type": "code",
      "source": [
        "a = model.fit_generator( training_set, epochs=80, steps_per_epoch=len(training_set)\n",
        ")"
      ],
      "metadata": {
        "colab": {
          "base_uri": "https://localhost:8080/"
        },
        "id": "bShqGRVeGKlV",
        "outputId": "d832a525-937b-4c95-8766-fecf6c851304"
      },
      "execution_count": 14,
      "outputs": [
        {
          "output_type": "stream",
          "name": "stderr",
          "text": [
            "<ipython-input-14-d08e984be685>:1: UserWarning: `Model.fit_generator` is deprecated and will be removed in a future version. Please use `Model.fit`, which supports generators.\n",
            "  a = model.fit_generator( training_set, epochs=80, steps_per_epoch=len(training_set)\n"
          ]
        },
        {
          "output_type": "stream",
          "name": "stdout",
          "text": [
            "Epoch 1/80\n",
            "2/2 [==============================] - 5s 120ms/step - loss: 5.3154 - accuracy: 0.5000\n",
            "Epoch 2/80\n",
            "2/2 [==============================] - 0s 163ms/step - loss: 1.7272 - accuracy: 0.5000\n",
            "Epoch 3/80\n",
            "2/2 [==============================] - 0s 36ms/step - loss: 0.8426 - accuracy: 0.5250\n",
            "Epoch 4/80\n",
            "2/2 [==============================] - 0s 33ms/step - loss: 0.9097 - accuracy: 0.5000\n",
            "Epoch 5/80\n",
            "2/2 [==============================] - 0s 37ms/step - loss: 0.6908 - accuracy: 0.6000\n",
            "Epoch 6/80\n",
            "2/2 [==============================] - 0s 32ms/step - loss: 0.7321 - accuracy: 0.5000\n",
            "Epoch 7/80\n",
            "2/2 [==============================] - 0s 180ms/step - loss: 0.7018 - accuracy: 0.5250\n",
            "Epoch 8/80\n",
            "2/2 [==============================] - 0s 179ms/step - loss: 0.6721 - accuracy: 0.5750\n",
            "Epoch 9/80\n",
            "2/2 [==============================] - 0s 35ms/step - loss: 0.6563 - accuracy: 0.5250\n",
            "Epoch 10/80\n",
            "2/2 [==============================] - 0s 187ms/step - loss: 0.6662 - accuracy: 0.5250\n",
            "Epoch 11/80\n",
            "2/2 [==============================] - 0s 176ms/step - loss: 0.6431 - accuracy: 0.6000\n",
            "Epoch 12/80\n",
            "2/2 [==============================] - 0s 165ms/step - loss: 0.6479 - accuracy: 0.6000\n",
            "Epoch 13/80\n",
            "2/2 [==============================] - 0s 33ms/step - loss: 0.6499 - accuracy: 0.5500\n",
            "Epoch 14/80\n",
            "2/2 [==============================] - 0s 36ms/step - loss: 0.6117 - accuracy: 0.8000\n",
            "Epoch 15/80\n",
            "2/2 [==============================] - 0s 34ms/step - loss: 0.6055 - accuracy: 0.6750\n",
            "Epoch 16/80\n",
            "2/2 [==============================] - 0s 35ms/step - loss: 0.6137 - accuracy: 0.6000\n",
            "Epoch 17/80\n",
            "2/2 [==============================] - 0s 186ms/step - loss: 0.5482 - accuracy: 0.7000\n",
            "Epoch 18/80\n",
            "2/2 [==============================] - 0s 33ms/step - loss: 0.5234 - accuracy: 0.6750\n",
            "Epoch 19/80\n",
            "2/2 [==============================] - 0s 35ms/step - loss: 0.5766 - accuracy: 0.6000\n",
            "Epoch 20/80\n",
            "2/2 [==============================] - 0s 34ms/step - loss: 0.5053 - accuracy: 0.7500\n",
            "Epoch 21/80\n",
            "2/2 [==============================] - 0s 33ms/step - loss: 0.7312 - accuracy: 0.5750\n",
            "Epoch 22/80\n",
            "2/2 [==============================] - 0s 185ms/step - loss: 0.4697 - accuracy: 0.8500\n",
            "Epoch 23/80\n",
            "2/2 [==============================] - 0s 186ms/step - loss: 0.4682 - accuracy: 0.8000\n",
            "Epoch 24/80\n",
            "2/2 [==============================] - 0s 58ms/step - loss: 0.4831 - accuracy: 0.7750\n",
            "Epoch 25/80\n",
            "2/2 [==============================] - 0s 275ms/step - loss: 0.4141 - accuracy: 0.8750\n",
            "Epoch 26/80\n",
            "2/2 [==============================] - 1s 661ms/step - loss: 0.4582 - accuracy: 0.8250\n",
            "Epoch 27/80\n",
            "2/2 [==============================] - 1s 657ms/step - loss: 0.4414 - accuracy: 0.8000\n",
            "Epoch 28/80\n",
            "2/2 [==============================] - 0s 58ms/step - loss: 0.4443 - accuracy: 0.8250\n",
            "Epoch 29/80\n",
            "2/2 [==============================] - 0s 199ms/step - loss: 0.4341 - accuracy: 0.7750\n",
            "Epoch 30/80\n",
            "2/2 [==============================] - 0s 34ms/step - loss: 0.3562 - accuracy: 0.8750\n",
            "Epoch 31/80\n",
            "2/2 [==============================] - 0s 34ms/step - loss: 0.3469 - accuracy: 0.8750\n",
            "Epoch 32/80\n",
            "2/2 [==============================] - 0s 35ms/step - loss: 0.3990 - accuracy: 0.7500\n",
            "Epoch 33/80\n",
            "2/2 [==============================] - 0s 33ms/step - loss: 0.3988 - accuracy: 0.8500\n",
            "Epoch 34/80\n",
            "2/2 [==============================] - 0s 43ms/step - loss: 0.4321 - accuracy: 0.8000\n",
            "Epoch 35/80\n",
            "2/2 [==============================] - 0s 182ms/step - loss: 0.3868 - accuracy: 0.9000\n",
            "Epoch 36/80\n",
            "2/2 [==============================] - 0s 32ms/step - loss: 0.3882 - accuracy: 0.8500\n",
            "Epoch 37/80\n",
            "2/2 [==============================] - 0s 36ms/step - loss: 0.4450 - accuracy: 0.8000\n",
            "Epoch 38/80\n",
            "2/2 [==============================] - 0s 163ms/step - loss: 0.3522 - accuracy: 0.9000\n",
            "Epoch 39/80\n",
            "2/2 [==============================] - 0s 34ms/step - loss: 0.3726 - accuracy: 0.8250\n",
            "Epoch 40/80\n",
            "2/2 [==============================] - 0s 157ms/step - loss: 0.2999 - accuracy: 0.9000\n",
            "Epoch 41/80\n",
            "2/2 [==============================] - 0s 197ms/step - loss: 0.3196 - accuracy: 0.9250\n",
            "Epoch 42/80\n",
            "2/2 [==============================] - 0s 171ms/step - loss: 0.2739 - accuracy: 0.8750\n",
            "Epoch 43/80\n",
            "2/2 [==============================] - 0s 33ms/step - loss: 0.2140 - accuracy: 0.9250\n",
            "Epoch 44/80\n",
            "2/2 [==============================] - 0s 33ms/step - loss: 0.3112 - accuracy: 0.8250\n",
            "Epoch 45/80\n",
            "2/2 [==============================] - 0s 32ms/step - loss: 0.2684 - accuracy: 0.8750\n",
            "Epoch 46/80\n",
            "2/2 [==============================] - 0s 35ms/step - loss: 0.2320 - accuracy: 0.9000\n",
            "Epoch 47/80\n",
            "2/2 [==============================] - 0s 170ms/step - loss: 0.2426 - accuracy: 0.9000\n",
            "Epoch 48/80\n",
            "2/2 [==============================] - 0s 38ms/step - loss: 0.2853 - accuracy: 0.9000\n",
            "Epoch 49/80\n",
            "2/2 [==============================] - 0s 118ms/step - loss: 0.1759 - accuracy: 0.9500\n",
            "Epoch 50/80\n",
            "2/2 [==============================] - 0s 47ms/step - loss: 0.1975 - accuracy: 0.9500\n",
            "Epoch 51/80\n",
            "2/2 [==============================] - 0s 59ms/step - loss: 0.1967 - accuracy: 0.9250\n",
            "Epoch 52/80\n",
            "2/2 [==============================] - 0s 37ms/step - loss: 0.2305 - accuracy: 0.9250\n",
            "Epoch 53/80\n",
            "2/2 [==============================] - 0s 355ms/step - loss: 0.2167 - accuracy: 0.9500\n",
            "Epoch 54/80\n",
            "2/2 [==============================] - 1s 419ms/step - loss: 0.1895 - accuracy: 0.9500\n",
            "Epoch 55/80\n",
            "2/2 [==============================] - 0s 274ms/step - loss: 0.1888 - accuracy: 0.9000\n",
            "Epoch 56/80\n",
            "2/2 [==============================] - 0s 176ms/step - loss: 0.3123 - accuracy: 0.8500\n",
            "Epoch 57/80\n",
            "2/2 [==============================] - 0s 32ms/step - loss: 0.3211 - accuracy: 0.8500\n",
            "Epoch 58/80\n",
            "2/2 [==============================] - 0s 277ms/step - loss: 0.2233 - accuracy: 0.9000\n",
            "Epoch 59/80\n",
            "2/2 [==============================] - 0s 278ms/step - loss: 0.2872 - accuracy: 0.8750\n",
            "Epoch 60/80\n",
            "2/2 [==============================] - 0s 71ms/step - loss: 0.2687 - accuracy: 0.8500\n",
            "Epoch 61/80\n",
            "2/2 [==============================] - 0s 288ms/step - loss: 0.1336 - accuracy: 0.9750\n",
            "Epoch 62/80\n",
            "2/2 [==============================] - 0s 58ms/step - loss: 0.2668 - accuracy: 0.9000\n",
            "Epoch 63/80\n",
            "2/2 [==============================] - 0s 263ms/step - loss: 0.1919 - accuracy: 0.9250\n",
            "Epoch 64/80\n",
            "2/2 [==============================] - 0s 59ms/step - loss: 0.1042 - accuracy: 1.0000\n",
            "Epoch 65/80\n",
            "2/2 [==============================] - 0s 269ms/step - loss: 0.2156 - accuracy: 0.9750\n",
            "Epoch 66/80\n",
            "2/2 [==============================] - 0s 171ms/step - loss: 0.0869 - accuracy: 0.9750\n",
            "Epoch 67/80\n",
            "2/2 [==============================] - 0s 37ms/step - loss: 0.1679 - accuracy: 0.9500\n",
            "Epoch 68/80\n",
            "2/2 [==============================] - 0s 37ms/step - loss: 0.1311 - accuracy: 0.9250\n",
            "Epoch 69/80\n",
            "2/2 [==============================] - 0s 176ms/step - loss: 0.1389 - accuracy: 0.9500\n",
            "Epoch 70/80\n",
            "2/2 [==============================] - 0s 47ms/step - loss: 0.0644 - accuracy: 0.9750\n",
            "Epoch 71/80\n",
            "2/2 [==============================] - 0s 219ms/step - loss: 0.1473 - accuracy: 0.9500\n",
            "Epoch 72/80\n",
            "2/2 [==============================] - 0s 176ms/step - loss: 0.1347 - accuracy: 0.9750\n",
            "Epoch 73/80\n",
            "2/2 [==============================] - 0s 192ms/step - loss: 0.0530 - accuracy: 1.0000\n",
            "Epoch 74/80\n",
            "2/2 [==============================] - 0s 42ms/step - loss: 0.0582 - accuracy: 1.0000\n",
            "Epoch 75/80\n",
            "2/2 [==============================] - 0s 159ms/step - loss: 0.0409 - accuracy: 1.0000\n",
            "Epoch 76/80\n",
            "2/2 [==============================] - 0s 36ms/step - loss: 0.0661 - accuracy: 0.9750\n",
            "Epoch 77/80\n",
            "2/2 [==============================] - 0s 33ms/step - loss: 0.0795 - accuracy: 0.9750\n",
            "Epoch 78/80\n",
            "2/2 [==============================] - 0s 213ms/step - loss: 0.0448 - accuracy: 1.0000\n",
            "Epoch 79/80\n",
            "2/2 [==============================] - 0s 34ms/step - loss: 0.0568 - accuracy: 0.9750\n",
            "Epoch 80/80\n",
            "2/2 [==============================] - 0s 202ms/step - loss: 0.0368 - accuracy: 1.0000\n"
          ]
        }
      ]
    },
    {
      "cell_type": "code",
      "source": [
        "model.save('/content/drive/MyDrive/Al/Al/Train.h5')"
      ],
      "metadata": {
        "id": "q2wFk90SG3_t"
      },
      "execution_count": 15,
      "outputs": []
    },
    {
      "cell_type": "code",
      "source": [
        "# Đánh giá độ chính xác của mô hình \n",
        "Score=model.evaluate(training_set,verbose=0)\n",
        "print('Train Loss', Score[0])\n",
        "print('Train Accuracy', Score[1])"
      ],
      "metadata": {
        "colab": {
          "base_uri": "https://localhost:8080/"
        },
        "id": "MvOHMJSxG_20",
        "outputId": "de6e80fa-dee0-4fe0-dbe9-1e3f9973b29a"
      },
      "execution_count": 16,
      "outputs": [
        {
          "output_type": "stream",
          "name": "stdout",
          "text": [
            "Train Loss 0.029060697183012962\n",
            "Train Accuracy 1.0\n"
          ]
        }
      ]
    },
    {
      "cell_type": "code",
      "source": [
        "# Vẽ đồ thị giữa số lần học (Epochs) và độ chính xác (Accuracy)\n",
        "plt.plot(a.history['accuracy'])\n",
        "plt.title('Model Accuracy')\n",
        "plt.ylabel('Accuracy')\n",
        "plt.xlabel('Epochs')\n",
        "plt.legend(['Train'])\n",
        "plt.show"
      ],
      "metadata": {
        "colab": {
          "base_uri": "https://localhost:8080/",
          "height": 489
        },
        "id": "EyDuoAwdHCP9",
        "outputId": "1470f89b-5988-463a-b637-9bbd5bccd9a3"
      },
      "execution_count": 17,
      "outputs": [
        {
          "output_type": "execute_result",
          "data": {
            "text/plain": [
              "<function matplotlib.pyplot.show(close=None, block=None)>"
            ]
          },
          "metadata": {},
          "execution_count": 17
        },
        {
          "output_type": "display_data",
          "data": {
            "text/plain": [
              "<Figure size 640x480 with 1 Axes>"
            ],
            "image/png": "[encoded data removed]"
          },
          "metadata": {}
        }
      ]
    },
    {
      "cell_type": "code",
      "source": [
        "model1= load_model('/content/drive/MyDrive/Al/Al/Train.h5')"
      ],
      "metadata": {
        "id": "B11_Be84HDkN"
      },
      "execution_count": 18,
      "outputs": []
    },
    {
      "cell_type": "code",
      "source": [
        "img = load_img('/content/drive/MyDrive/Al/Al/Test/h2.jpg', target_size=(30,40))\n",
        "plt.imshow(img)"
      ],
      "metadata": {
        "colab": {
          "base_uri": "https://localhost:8080/",
          "height": 447
        },
        "id": "sgwl-69VHJej",
        "outputId": "1e886aa0-cdfc-4d31-d2cc-311de86df1e4"
      },
      "execution_count": 19,
      "outputs": [
        {
          "output_type": "execute_result",
          "data": {
            "text/plain": [
              "<matplotlib.image.AxesImage at 0x7f5220142ec0>"
            ]
          },
          "metadata": {},
          "execution_count": 19
        },
        {
          "output_type": "display_data",
          "data": {
            "text/plain": [
              "<Figure size 640x480 with 1 Axes>"
            ],
            "image/png": "[encoded data removed]"
          },
          "metadata": {}
        }
      ]
    },
    {
      "cell_type": "code",
      "source": [
        "class_name=['Bệnh', 'Không bệnh']"
      ],
      "metadata": {
        "id": "v3LUE6KBHima"
      },
      "execution_count": 20,
      "outputs": []
    },
    {
      "cell_type": "code",
      "source": [
        "imgRe = img_to_array(img)\n",
        "imgRe = imgRe.reshape(1,30,40,3)  \n",
        "imgRe = imgRe.astype('float32')\n",
        "imgRe /= 255\n",
        "y_pred = model.predict(imgRe)\n",
        "print(y_pred)\n",
        "y_classes = [np.argmax(element) for element in y_pred]\n",
        "y_classes\n",
        "class_name[y_classes[0]]"
      ],
      "metadata": {
        "colab": {
          "base_uri": "https://localhost:8080/",
          "height": 70
        },
        "id": "7C8FbC-iHtgE",
        "outputId": "adf1a2bf-5c08-43aa-f16b-030f82e47a3a"
      },
      "execution_count": 21,
      "outputs": [
        {
          "output_type": "stream",
          "name": "stdout",
          "text": [
            "1/1 [==============================] - 0s 444ms/step\n",
            "[[0.97513074 0.02486926]]\n"
          ]
        },
        {
          "output_type": "execute_result",
          "data": {
            "text/plain": [
              "'Bệnh'"
            ],
            "application/vnd.google.colaboratory.intrinsic+json": {
              "type": "string"
            }
          },
          "metadata": {},
          "execution_count": 21
        }
      ]
    }
  ]
}