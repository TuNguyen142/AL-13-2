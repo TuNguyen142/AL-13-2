{
  "nbformat": 4,
  "nbformat_minor": 0,
  "metadata": {
    "colab": {
      "provenance": [],
      "authorship_tag": "ABX9TyO93ZMUjqIe4pU8zaj9hkuk",
      "include_colab_link": true
    },
    "kernelspec": {
      "name": "python3",
      "display_name": "Python 3"
    },
    "language_info": {
      "name": "python"
    }
  },
  "cells": [
    {
      "cell_type": "markdown",
      "metadata": {
        "id": "view-in-github",
        "colab_type": "text"
      },
      "source": [
        "<a href=\"https://colab.research.google.com/github/TuNguyen142/AL-13-2/blob/main/vegetable.ipynb\" target=\"_parent\"><img src=\"https://colab.research.google.com/assets/colab-badge.svg\" alt=\"Open In Colab\"/></a>"
      ]
    },
    {
      "cell_type": "code",
      "execution_count": 18,
      "metadata": {
        "colab": {
          "base_uri": "https://localhost:8080/"
        },
        "id": "BCE05-DOZ5ZX",
        "outputId": "67ee6d2f-5113-4ef1-ab9b-91ae95acbfd9"
      },
      "outputs": [
        {
          "output_type": "stream",
          "name": "stdout",
          "text": [
            "Drive already mounted at /content/drive; to attempt to forcibly remount, call drive.mount(\"/content/drive\", force_remount=True).\n"
          ]
        }
      ],
      "source": [
        "from google.colab import drive\n",
        "drive.mount('/content/drive')"
      ]
    },
    {
      "cell_type": "code",
      "source": [
        "# Khai báo và sử dụng các thư viện sau\n",
        "from sklearn.model_selection import train_test_split\n",
        "import matplotlib.pyplot as plt\n",
        "import os\n",
        "import numpy as np\n",
        "import tensorflow as tf\n",
        "from keras.utils import np_utils\n",
        "from keras.models import Sequential\n",
        "from keras.layers import Dense, Activation, Dropout, Conv2D, MaxPooling2D, Flatten,  LeakyReLU\n",
        "from tensorflow.keras.optimizers import SGD, RMSprop\n",
        "from keras.callbacks import EarlyStopping, ModelCheckpoint\n",
        "from sklearn.utils import validation \n",
        "from sklearn import preprocessing\n",
        "from tensorflow.keras.utils import to_categorical\n",
        "from tensorflow.keras.models import load_model\n",
        "from tensorflow.keras.utils import load_img, img_to_array\n",
        "from tensorflow.keras.preprocessing.image import ImageDataGenerator"
      ],
      "metadata": {
        "id": "Xuuy3oBcaA_m"
      },
      "execution_count": 19,
      "outputs": []
    },
    {
      "cell_type": "code",
      "source": [
        "%cd /content/drive/MyDrive/Bài cuối kì Al/vegetables\n"
      ],
      "metadata": {
        "colab": {
          "base_uri": "https://localhost:8080/"
        },
        "id": "lQKq2JEuaEnP",
        "outputId": "737de8da-f63c-428a-9cdf-7808f16a4c06"
      },
      "execution_count": 20,
      "outputs": [
        {
          "output_type": "stream",
          "name": "stdout",
          "text": [
            "/content/drive/MyDrive/Bài cuối kì Al/vegetables\n"
          ]
        }
      ]
    },
    {
      "cell_type": "code",
      "source": [
        "# Tạo ra class ImageDataGenerator để chỉnh sửa ảnh \n",
        "train=ImageDataGenerator(rescale=1./255, shear_range=0.2, zoom_range=0.2, horizontal_flip=True)"
      ],
      "metadata": {
        "id": "KVtS6m_laKam"
      },
      "execution_count": 21,
      "outputs": []
    },
    {
      "cell_type": "code",
      "source": [
        "# Tạo bộ dữ liệu training set\n",
        "training_set=train.flow_from_directory('/content/drive/MyDrive/Bài cuối kì Al/vegetables/Train',\n",
        "                                               target_size=(30,40), batch_size=32, class_mode='categorical')"
      ],
      "metadata": {
        "colab": {
          "base_uri": "https://localhost:8080/"
        },
        "id": "_itkvEOxaN_O",
        "outputId": "44a8827b-970e-4e75-aece-16ac8937c0fc"
      },
      "execution_count": 22,
      "outputs": [
        {
          "output_type": "stream",
          "name": "stdout",
          "text": [
            "Found 100 images belonging to 5 classes.\n"
          ]
        }
      ]
    },
    {
      "cell_type": "code",
      "source": [
        "# Các nhãn có trong bộ dữ liệu training set\n",
        "training_set.class_indices"
      ],
      "metadata": {
        "colab": {
          "base_uri": "https://localhost:8080/"
        },
        "id": "JXphPfuPeDEY",
        "outputId": "27a253a6-24ed-4969-9ac0-50e930be0287"
      },
      "execution_count": 23,
      "outputs": [
        {
          "output_type": "execute_result",
          "data": {
            "text/plain": [
              "{'Bắp cải': 0,\n",
              " 'Cà chua': 1,\n",
              " 'Cà tím': 2,\n",
              " 'Ớt chuông': 3,\n",
              " 'Súp lơ xanh': 4}"
            ]
          },
          "metadata": {},
          "execution_count": 23
        }
      ]
    },
    {
      "cell_type": "code",
      "source": [
        "# Tạo ra mạng CNN để train mô hình\n",
        "model=Sequential()\n",
        "\n",
        "model.add(Conv2D(32,(3,3), activation='linear', kernel_initializer='he_uniform', padding='same',input_shape=(30,40,3))) \n",
        "model.add(LeakyReLU(alpha = 0.1))\n",
        "model.add(MaxPooling2D((2,2), padding = 'same'))\n",
        "\n",
        "\n",
        "model.add(Conv2D(64,(3,3), activation='linear', kernel_initializer='he_uniform', padding='same')) \n",
        "model.add(LeakyReLU(alpha = 0.1))\n",
        "model.add(MaxPooling2D((2,2), padding = 'same'))\n",
        "\n",
        "model.add(Conv2D(128,(3,3), activation='linear', kernel_initializer='he_uniform', padding='same')) \n",
        "model.add(LeakyReLU(alpha = 0.1))\n",
        "model.add(MaxPooling2D((2,2), padding = 'same'))\n",
        "\n",
        "model.add(Flatten())\n",
        "model.add(Dense(256,activation='linear',kernel_initializer='he_uniform'))\n",
        "model.add(Dropout(0.2))\n",
        "model.add(LeakyReLU(alpha = 0.1))\n",
        "model.add(Dense(5,activation='softmax'))\n",
        "\n",
        "# Biên dịch \n",
        "model.compile(optimizer='adam',loss='categorical_crossentropy',metrics=['accuracy'])\n",
        "model.summary()\n",
        "     "
      ],
      "metadata": {
        "colab": {
          "base_uri": "https://localhost:8080/"
        },
        "id": "-8khJMCceO8e",
        "outputId": "b56d33e7-d5f9-462d-a598-798909c4e4fe"
      },
      "execution_count": 25,
      "outputs": [
        {
          "output_type": "stream",
          "name": "stdout",
          "text": [
            "Model: \"sequential_2\"\n",
            "_________________________________________________________________\n",
            " Layer (type)                Output Shape              Param #   \n",
            "=================================================================\n",
            " conv2d_6 (Conv2D)           (None, 30, 40, 32)        896       \n",
            "                                                                 \n",
            " leaky_re_lu_8 (LeakyReLU)   (None, 30, 40, 32)        0         \n",
            "                                                                 \n",
            " max_pooling2d_6 (MaxPooling  (None, 15, 20, 32)       0         \n",
            " 2D)                                                             \n",
            "                                                                 \n",
            " conv2d_7 (Conv2D)           (None, 15, 20, 64)        18496     \n",
            "                                                                 \n",
            " leaky_re_lu_9 (LeakyReLU)   (None, 15, 20, 64)        0         \n",
            "                                                                 \n",
            " max_pooling2d_7 (MaxPooling  (None, 8, 10, 64)        0         \n",
            " 2D)                                                             \n",
            "                                                                 \n",
            " conv2d_8 (Conv2D)           (None, 8, 10, 128)        73856     \n",
            "                                                                 \n",
            " leaky_re_lu_10 (LeakyReLU)  (None, 8, 10, 128)        0         \n",
            "                                                                 \n",
            " max_pooling2d_8 (MaxPooling  (None, 4, 5, 128)        0         \n",
            " 2D)                                                             \n",
            "                                                                 \n",
            " flatten_2 (Flatten)         (None, 2560)              0         \n",
            "                                                                 \n",
            " dense_5 (Dense)             (None, 256)               655616    \n",
            "                                                                 \n",
            " dropout_2 (Dropout)         (None, 256)               0         \n",
            "                                                                 \n",
            " leaky_re_lu_11 (LeakyReLU)  (None, 256)               0         \n",
            "                                                                 \n",
            " dense_6 (Dense)             (None, 5)                 1285      \n",
            "                                                                 \n",
            "=================================================================\n",
            "Total params: 750,149\n",
            "Trainable params: 750,149\n",
            "Non-trainable params: 0\n",
            "_________________________________________________________________\n"
          ]
        }
      ]
    },
    {
      "cell_type": "code",
      "source": [
        "# Thiết lập thông số\n",
        "model.compile( loss = 'categorical_crossentropy', optimizer=Adam(), metrics = ['accuracy'])\n",
        "# Huấn luyện\n",
        "# fit the model\n",
        "# Run the cell. It will take some time to execute\n",
        "a = model.fit_generator( training_set, epochs=80, steps_per_epoch=len(training_set)\n",
        ")"
      ],
      "metadata": {
        "colab": {
          "base_uri": "https://localhost:8080/"
        },
        "id": "mL8VOO5vacju",
        "outputId": "03b74d9c-d169-44b7-a579-d60fae3332cb"
      },
      "execution_count": 26,
      "outputs": [
        {
          "output_type": "stream",
          "name": "stderr",
          "text": [
            "<ipython-input-26-f5aecfae2108>:6: UserWarning: `Model.fit_generator` is deprecated and will be removed in a future version. Please use `Model.fit`, which supports generators.\n",
            "  a = model.fit_generator( training_set, epochs=80, steps_per_epoch=len(training_set)\n"
          ]
        },
        {
          "output_type": "stream",
          "name": "stdout",
          "text": [
            "Epoch 1/80\n",
            "4/4 [==============================] - 2s 177ms/step - loss: 3.5575 - accuracy: 0.2700\n",
            "Epoch 2/80\n",
            "4/4 [==============================] - 1s 188ms/step - loss: 1.9673 - accuracy: 0.3300\n",
            "Epoch 3/80\n",
            "4/4 [==============================] - 1s 164ms/step - loss: 1.4460 - accuracy: 0.3400\n",
            "Epoch 4/80\n",
            "4/4 [==============================] - 1s 272ms/step - loss: 1.2899 - accuracy: 0.5100\n",
            "Epoch 5/80\n",
            "4/4 [==============================] - 1s 314ms/step - loss: 1.1036 - accuracy: 0.5500\n",
            "Epoch 6/80\n",
            "4/4 [==============================] - 1s 169ms/step - loss: 0.9317 - accuracy: 0.5900\n",
            "Epoch 7/80\n",
            "4/4 [==============================] - 1s 157ms/step - loss: 0.9100 - accuracy: 0.5600\n",
            "Epoch 8/80\n",
            "4/4 [==============================] - 1s 166ms/step - loss: 0.7651 - accuracy: 0.6300\n",
            "Epoch 9/80\n",
            "4/4 [==============================] - 1s 232ms/step - loss: 0.6612 - accuracy: 0.6900\n",
            "Epoch 10/80\n",
            "4/4 [==============================] - 1s 251ms/step - loss: 0.7075 - accuracy: 0.6200\n",
            "Epoch 11/80\n",
            "4/4 [==============================] - 1s 134ms/step - loss: 0.6134 - accuracy: 0.6600\n",
            "Epoch 12/80\n",
            "4/4 [==============================] - 1s 180ms/step - loss: 0.7642 - accuracy: 0.6400\n",
            "Epoch 13/80\n",
            "4/4 [==============================] - 1s 249ms/step - loss: 0.5567 - accuracy: 0.7700\n",
            "Epoch 14/80\n",
            "4/4 [==============================] - 1s 181ms/step - loss: 0.5558 - accuracy: 0.7400\n",
            "Epoch 15/80\n",
            "4/4 [==============================] - 1s 246ms/step - loss: 0.4336 - accuracy: 0.8200\n",
            "Epoch 16/80\n",
            "4/4 [==============================] - 1s 241ms/step - loss: 0.4047 - accuracy: 0.8200\n",
            "Epoch 17/80\n",
            "4/4 [==============================] - 1s 276ms/step - loss: 0.4430 - accuracy: 0.7700\n",
            "Epoch 18/80\n",
            "4/4 [==============================] - 1s 141ms/step - loss: 0.4002 - accuracy: 0.8500\n",
            "Epoch 19/80\n",
            "4/4 [==============================] - 1s 171ms/step - loss: 0.4422 - accuracy: 0.8000\n",
            "Epoch 20/80\n",
            "4/4 [==============================] - 1s 174ms/step - loss: 0.5385 - accuracy: 0.7600\n",
            "Epoch 21/80\n",
            "4/4 [==============================] - 1s 169ms/step - loss: 0.5171 - accuracy: 0.7700\n",
            "Epoch 22/80\n",
            "4/4 [==============================] - 1s 176ms/step - loss: 0.4285 - accuracy: 0.7600\n",
            "Epoch 23/80\n",
            "4/4 [==============================] - 1s 238ms/step - loss: 0.3304 - accuracy: 0.8800\n",
            "Epoch 24/80\n",
            "4/4 [==============================] - 1s 142ms/step - loss: 0.2863 - accuracy: 0.8700\n",
            "Epoch 25/80\n",
            "4/4 [==============================] - 1s 241ms/step - loss: 0.3289 - accuracy: 0.8800\n",
            "Epoch 26/80\n",
            "4/4 [==============================] - 2s 562ms/step - loss: 0.3076 - accuracy: 0.8500\n",
            "Epoch 27/80\n",
            "4/4 [==============================] - 1s 405ms/step - loss: 0.2819 - accuracy: 0.8600\n",
            "Epoch 28/80\n",
            "4/4 [==============================] - 1s 250ms/step - loss: 0.2569 - accuracy: 0.8900\n",
            "Epoch 29/80\n",
            "4/4 [==============================] - 1s 150ms/step - loss: 0.2793 - accuracy: 0.8900\n",
            "Epoch 30/80\n",
            "4/4 [==============================] - 1s 162ms/step - loss: 0.2758 - accuracy: 0.8800\n",
            "Epoch 31/80\n",
            "4/4 [==============================] - 1s 158ms/step - loss: 0.1740 - accuracy: 0.9600\n",
            "Epoch 32/80\n",
            "4/4 [==============================] - 1s 254ms/step - loss: 0.3805 - accuracy: 0.8000\n",
            "Epoch 33/80\n",
            "4/4 [==============================] - 1s 172ms/step - loss: 0.2047 - accuracy: 0.8900\n",
            "Epoch 34/80\n",
            "4/4 [==============================] - 1s 148ms/step - loss: 0.2360 - accuracy: 0.9200\n",
            "Epoch 35/80\n",
            "4/4 [==============================] - 1s 180ms/step - loss: 0.2005 - accuracy: 0.9300\n",
            "Epoch 36/80\n",
            "4/4 [==============================] - 1s 170ms/step - loss: 0.2324 - accuracy: 0.9100\n",
            "Epoch 37/80\n",
            "4/4 [==============================] - 1s 179ms/step - loss: 0.1681 - accuracy: 0.9500\n",
            "Epoch 38/80\n",
            "4/4 [==============================] - 1s 447ms/step - loss: 0.1869 - accuracy: 0.9300\n",
            "Epoch 39/80\n",
            "4/4 [==============================] - 1s 350ms/step - loss: 0.1485 - accuracy: 0.9500\n",
            "Epoch 40/80\n",
            "4/4 [==============================] - 1s 180ms/step - loss: 0.1448 - accuracy: 0.9600\n",
            "Epoch 41/80\n",
            "4/4 [==============================] - 1s 167ms/step - loss: 0.1109 - accuracy: 0.9700\n",
            "Epoch 42/80\n",
            "4/4 [==============================] - 1s 157ms/step - loss: 0.1423 - accuracy: 0.9500\n",
            "Epoch 43/80\n",
            "4/4 [==============================] - 1s 179ms/step - loss: 0.1567 - accuracy: 0.9300\n",
            "Epoch 44/80\n",
            "4/4 [==============================] - 1s 182ms/step - loss: 0.1621 - accuracy: 0.9300\n",
            "Epoch 45/80\n",
            "4/4 [==============================] - 1s 172ms/step - loss: 0.1443 - accuracy: 0.9500\n",
            "Epoch 46/80\n",
            "4/4 [==============================] - 1s 160ms/step - loss: 0.1343 - accuracy: 0.9400\n",
            "Epoch 47/80\n",
            "4/4 [==============================] - 1s 159ms/step - loss: 0.2469 - accuracy: 0.8900\n",
            "Epoch 48/80\n",
            "4/4 [==============================] - 1s 165ms/step - loss: 0.1025 - accuracy: 0.9600\n",
            "Epoch 49/80\n",
            "4/4 [==============================] - 1s 179ms/step - loss: 0.0593 - accuracy: 1.0000\n",
            "Epoch 50/80\n",
            "4/4 [==============================] - 2s 359ms/step - loss: 0.0966 - accuracy: 0.9600\n",
            "Epoch 51/80\n",
            "4/4 [==============================] - 2s 406ms/step - loss: 0.0817 - accuracy: 0.9900\n",
            "Epoch 52/80\n",
            "4/4 [==============================] - 1s 282ms/step - loss: 0.0480 - accuracy: 0.9900\n",
            "Epoch 53/80\n",
            "4/4 [==============================] - 1s 163ms/step - loss: 0.0497 - accuracy: 1.0000\n",
            "Epoch 54/80\n",
            "4/4 [==============================] - 1s 227ms/step - loss: 0.0417 - accuracy: 1.0000\n",
            "Epoch 55/80\n",
            "4/4 [==============================] - 1s 250ms/step - loss: 0.0528 - accuracy: 0.9900\n",
            "Epoch 56/80\n",
            "4/4 [==============================] - 1s 167ms/step - loss: 0.0483 - accuracy: 0.9800\n",
            "Epoch 57/80\n",
            "4/4 [==============================] - 1s 170ms/step - loss: 0.0429 - accuracy: 0.9900\n",
            "Epoch 58/80\n",
            "4/4 [==============================] - 1s 182ms/step - loss: 0.0698 - accuracy: 0.9600\n",
            "Epoch 59/80\n",
            "4/4 [==============================] - 1s 171ms/step - loss: 0.0222 - accuracy: 1.0000\n",
            "Epoch 60/80\n",
            "4/4 [==============================] - 1s 275ms/step - loss: 0.0615 - accuracy: 0.9600\n",
            "Epoch 61/80\n",
            "4/4 [==============================] - 2s 474ms/step - loss: 0.2189 - accuracy: 0.9100\n",
            "Epoch 62/80\n",
            "4/4 [==============================] - 2s 586ms/step - loss: 0.2008 - accuracy: 0.9100\n",
            "Epoch 63/80\n",
            "4/4 [==============================] - 1s 173ms/step - loss: 0.0785 - accuracy: 0.9700\n",
            "Epoch 64/80\n",
            "4/4 [==============================] - 1s 172ms/step - loss: 0.1571 - accuracy: 0.9100\n",
            "Epoch 65/80\n",
            "4/4 [==============================] - 1s 244ms/step - loss: 0.0750 - accuracy: 0.9700\n",
            "Epoch 66/80\n",
            "4/4 [==============================] - 1s 176ms/step - loss: 0.0793 - accuracy: 0.9800\n",
            "Epoch 67/80\n",
            "4/4 [==============================] - 1s 152ms/step - loss: 0.1055 - accuracy: 0.9600\n",
            "Epoch 68/80\n",
            "4/4 [==============================] - 1s 171ms/step - loss: 0.1432 - accuracy: 0.9500\n",
            "Epoch 69/80\n",
            "4/4 [==============================] - 1s 168ms/step - loss: 0.0969 - accuracy: 0.9700\n",
            "Epoch 70/80\n",
            "4/4 [==============================] - 1s 171ms/step - loss: 0.1487 - accuracy: 0.9500\n",
            "Epoch 71/80\n",
            "4/4 [==============================] - 1s 169ms/step - loss: 0.2016 - accuracy: 0.9400\n",
            "Epoch 72/80\n",
            "4/4 [==============================] - 2s 696ms/step - loss: 0.0894 - accuracy: 0.9900\n",
            "Epoch 73/80\n",
            "4/4 [==============================] - 2s 170ms/step - loss: 0.0864 - accuracy: 0.9800\n",
            "Epoch 74/80\n",
            "4/4 [==============================] - 1s 172ms/step - loss: 0.0981 - accuracy: 0.9600\n",
            "Epoch 75/80\n",
            "4/4 [==============================] - 1s 187ms/step - loss: 0.0522 - accuracy: 0.9900\n",
            "Epoch 76/80\n",
            "4/4 [==============================] - 1s 163ms/step - loss: 0.0577 - accuracy: 0.9700\n",
            "Epoch 77/80\n",
            "4/4 [==============================] - 1s 154ms/step - loss: 0.0858 - accuracy: 0.9700\n",
            "Epoch 78/80\n",
            "4/4 [==============================] - 1s 163ms/step - loss: 0.0400 - accuracy: 0.9900\n",
            "Epoch 79/80\n",
            "4/4 [==============================] - 1s 244ms/step - loss: 0.0700 - accuracy: 0.9800\n",
            "Epoch 80/80\n",
            "4/4 [==============================] - 1s 230ms/step - loss: 0.0165 - accuracy: 1.0000\n"
          ]
        }
      ]
    },
    {
      "cell_type": "code",
      "source": [
        "model.save('/content/drive/MyDrive/Bài cuối kì Al/vegetables/Train.h5')"
      ],
      "metadata": {
        "id": "CtEJKyt0a-Hg"
      },
      "execution_count": 27,
      "outputs": []
    },
    {
      "cell_type": "code",
      "source": [
        "# Đánh giá độ chính xác của mô hình \n",
        "Score=model.evaluate(training_set,verbose=0)\n",
        "print('Train Loss', Score[0])\n",
        "print('Train Accuracy', Score[1])"
      ],
      "metadata": {
        "colab": {
          "base_uri": "https://localhost:8080/"
        },
        "id": "_eVeamvWbGye",
        "outputId": "5f9b73f7-fe8f-4f2d-c941-3d80f0b2793c"
      },
      "execution_count": 28,
      "outputs": [
        {
          "output_type": "stream",
          "name": "stdout",
          "text": [
            "Train Loss 0.018918918445706367\n",
            "Train Accuracy 1.0\n"
          ]
        }
      ]
    },
    {
      "cell_type": "code",
      "source": [
        "# Vẽ đồ thị giữa số lần học (Epochs) và độ chính xác (Accuracy)\n",
        "plt.plot(a.history['accuracy'])\n",
        "plt.title('Model Accuracy')\n",
        "plt.ylabel('Accuracy')\n",
        "plt.xlabel('Epochs')\n",
        "plt.legend(['Train'])\n",
        "plt.show"
      ],
      "metadata": {
        "colab": {
          "base_uri": "https://localhost:8080/",
          "height": 489
        },
        "id": "NUabVIbzbLKQ",
        "outputId": "5ae5d872-fff4-4dbd-eac3-a01deef50aeb"
      },
      "execution_count": 29,
      "outputs": [
        {
          "output_type": "execute_result",
          "data": {
            "text/plain": [
              "<function matplotlib.pyplot.show(close=None, block=None)>"
            ]
          },
          "metadata": {},
          "execution_count": 29
        },
        {
          "output_type": "display_data",
          "data": {
            "text/plain": [
              "<Figure size 640x480 with 1 Axes>"
            ],
            "image/png": "[encoded data removed]"
          },
          "metadata": {}
        }
      ]
    },
    {
      "cell_type": "code",
      "source": [
        "model1= load_model('/content/drive/MyDrive/Bài cuối kì Al/vegetables/Train.h5')"
      ],
      "metadata": {
        "id": "sCaiiWdPbLij"
      },
      "execution_count": 30,
      "outputs": []
    },
    {
      "cell_type": "code",
      "source": [
        "img = load_img('/content/drive/MyDrive/Bài cuối kì Al/vegetables/Test/bc1.jpg', target_size=(30,40))\n",
        "plt.imshow(img)"
      ],
      "metadata": {
        "colab": {
          "base_uri": "https://localhost:8080/",
          "height": 447
        },
        "id": "CD8T_fK3bTiH",
        "outputId": "b9237f83-2782-47ea-db59-3e7cb7e2beb9"
      },
      "execution_count": 31,
      "outputs": [
        {
          "output_type": "execute_result",
          "data": {
            "text/plain": [
              "<matplotlib.image.AxesImage at 0x7f3521c32020>"
            ]
          },
          "metadata": {},
          "execution_count": 31
        },
        {
          "output_type": "display_data",
          "data": {
            "text/plain": [
              "<Figure size 640x480 with 1 Axes>"
            ],
            "image/png": "[encoded data removed]"
          },
          "metadata": {}
        }
      ]
    },
    {
      "cell_type": "code",
      "source": [
        "class_name=['Bắp cải', 'Cà chua', 'Cà tím', 'Ớt chuông', 'Súp lơ xanh']"
      ],
      "metadata": {
        "id": "JkwWVWrVbkc2"
      },
      "execution_count": 32,
      "outputs": []
    },
    {
      "cell_type": "code",
      "source": [
        "imgRe = img_to_array(img)\n",
        "imgRe = imgRe.reshape(1,30,40,3)  \n",
        "imgRe = imgRe.astype('float32')\n",
        "imgRe /= 255\n",
        "y_pred = model.predict(imgRe)\n",
        "print(y_pred)\n",
        "y_classes = [np.argmax(element) for element in y_pred]\n",
        "y_classes\n",
        "class_name[y_classes[0]]"
      ],
      "metadata": {
        "colab": {
          "base_uri": "https://localhost:8080/",
          "height": 70
        },
        "id": "hn6EKdtsb2aM",
        "outputId": "cbdc71e8-199c-4005-8310-d3c1631aed57"
      },
      "execution_count": 33,
      "outputs": [
        {
          "output_type": "stream",
          "name": "stdout",
          "text": [
            "1/1 [==============================] - 0s 90ms/step\n",
            "[[9.9987328e-01 1.4192967e-06 1.1488006e-08 3.2823555e-06 1.2194228e-04]]\n"
          ]
        },
        {
          "output_type": "execute_result",
          "data": {
            "text/plain": [
              "'Bắp cải'"
            ],
            "application/vnd.google.colaboratory.intrinsic+json": {
              "type": "string"
            }
          },
          "metadata": {},
          "execution_count": 33
        }
      ]
    }
  ]
}