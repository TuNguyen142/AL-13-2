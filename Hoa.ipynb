{
  "nbformat": 4,
  "nbformat_minor": 0,
  "metadata": {
    "colab": {
      "provenance": [],
      "authorship_tag": "ABX9TyP60kiBze4jz93ITW8hU/em",
      "include_colab_link": true
    },
    "kernelspec": {
      "name": "python3",
      "display_name": "Python 3"
    },
    "language_info": {
      "name": "python"
    }
  },
  "cells": [
    {
      "cell_type": "markdown",
      "metadata": {
        "id": "view-in-github",
        "colab_type": "text"
      },
      "source": [
        "<a href=\"https://colab.research.google.com/github/TuNguyen142/AL-13-2/blob/main/Hoa.ipynb\" target=\"_parent\"><img src=\"https://colab.research.google.com/assets/colab-badge.svg\" alt=\"Open In Colab\"/></a>"
      ]
    },
    {
      "cell_type": "code",
      "execution_count": 1,
      "metadata": {
        "colab": {
          "base_uri": "https://localhost:8080/"
        },
        "id": "D7esnWBVMBqT",
        "outputId": "4a52cc19-518f-4157-83aa-16dc195fd66b"
      },
      "outputs": [
        {
          "output_type": "stream",
          "name": "stdout",
          "text": [
            "Mounted at /content/drive\n"
          ]
        }
      ],
      "source": [
        "from google.colab import drive\n",
        "drive.mount('/content/drive')"
      ]
    },
    {
      "cell_type": "code",
      "source": [
        "# Khai báo và sử dụng các thư viện sau\n",
        "from sklearn.model_selection import train_test_split\n",
        "import matplotlib.pyplot as plt\n",
        "import os\n",
        "import numpy as np\n",
        "import tensorflow as tf\n",
        "from keras.utils import np_utils\n",
        "from keras.models import Sequential\n",
        "from keras.layers import Dense, Activation, Dropout, Conv2D, MaxPooling2D, Flatten,  LeakyReLU\n",
        "from tensorflow.keras.optimizers import SGD, RMSprop\n",
        "from keras.callbacks import EarlyStopping, ModelCheckpoint\n",
        "from sklearn.utils import validation \n",
        "from sklearn import preprocessing\n",
        "from tensorflow.keras.utils import to_categorical\n",
        "from tensorflow.keras.models import load_model\n",
        "from tensorflow.keras.utils import load_img, img_to_array\n",
        "from tensorflow.keras.preprocessing.image import ImageDataGenerator"
      ],
      "metadata": {
        "id": "B8fY-euaMN5S"
      },
      "execution_count": 2,
      "outputs": []
    },
    {
      "cell_type": "code",
      "source": [
        "%cd /content/drive/MyDrive/bt al/Hoa"
      ],
      "metadata": {
        "colab": {
          "base_uri": "https://localhost:8080/"
        },
        "id": "xU0Fm7JTMSlh",
        "outputId": "3af7c13f-6b34-4288-a73e-8cb436ea0260"
      },
      "execution_count": 3,
      "outputs": [
        {
          "output_type": "stream",
          "name": "stdout",
          "text": [
            "/content/drive/MyDrive/bt al/Hoa\n"
          ]
        }
      ]
    },
    {
      "cell_type": "code",
      "source": [
        "# Tạo ra class ImageDataGenerator để chỉnh sửa ảnh \n",
        "train=ImageDataGenerator(rescale=1./255, shear_range=0.2, zoom_range=0.2, horizontal_flip=True)"
      ],
      "metadata": {
        "id": "aa2OxbCgMe7d"
      },
      "execution_count": 4,
      "outputs": []
    },
    {
      "cell_type": "code",
      "source": [
        "# Tạo bộ dữ liệu training set\n",
        "training_set=train.flow_from_directory('/content/drive/MyDrive/bt al/Hoa/Flowers',\n",
        "                                               target_size=(30,40), batch_size=32, class_mode='categorical')"
      ],
      "metadata": {
        "colab": {
          "base_uri": "https://localhost:8080/"
        },
        "id": "1wmHvFRmMhUw",
        "outputId": "51ccc8df-01cc-4cf9-bc58-42b2fdf819ea"
      },
      "execution_count": 5,
      "outputs": [
        {
          "output_type": "stream",
          "name": "stdout",
          "text": [
            "Found 100 images belonging to 5 classes.\n"
          ]
        }
      ]
    },
    {
      "cell_type": "code",
      "source": [
        "# Các nhãn có trong bộ dữ liệu training set\n",
        "training_set.class_indices"
      ],
      "metadata": {
        "colab": {
          "base_uri": "https://localhost:8080/"
        },
        "id": "XMZ-vEy1Mr9S",
        "outputId": "d2b73fcb-d5db-40aa-a745-d1992a268b99"
      },
      "execution_count": 6,
      "outputs": [
        {
          "output_type": "execute_result",
          "data": {
            "text/plain": [
              "{'apricot': 0, 'daisy': 1, 'lotus': 2, 'rose': 3, 'waterlily': 4}"
            ]
          },
          "metadata": {},
          "execution_count": 6
        }
      ]
    },
    {
      "cell_type": "code",
      "source": [
        "from keras.preprocessing.image import ImageDataGenerator\n",
        "from keras.models import Sequential\n",
        "from keras.layers import Dense, Flatten, Dropout, Conv2D, MaxPooling2D, Normalization\n",
        "import keras.backend as K\n",
        "from keras.layers import LeakyReLU\n",
        "from keras.callbacks import EarlyStopping\n",
        "from keras.utils import to_categorical\n",
        "from keras.optimizers import Adam\n",
        "# Tạo model\n",
        "model = Sequential()\n",
        "#Thêm lớp chuyển đổi\n",
        "model.add(tf.keras.layers.Conv2D(32,(3,3), activation='relu', input_shape=[30,40,3],padding='same')) #3 kênh màu RGB\n",
        "model.add(LeakyReLU(alpha=0.1))\n",
        "#Pooling\n",
        "model.add(MaxPooling2D(pool_size=(2,2) , padding = 'same'))\n",
        "#Tích chập lớp thứ 2\n",
        "model.add(Conv2D(64,(3,3), activation = 'relu',padding='same'))\n",
        "model.add(Dropout( 0.1))\n",
        "model.add(MaxPooling2D(pool_size=(2,2) , padding = 'same'))\n",
        "\n",
        "model.add(Conv2D(128,(3,3), activation = 'relu',padding='same'))\n",
        "model.add(LeakyReLU(alpha = 0.2))\n",
        "model.add(MaxPooling2D(pool_size=(2,2) , padding = 'same'))\n",
        "#Làm phẳng\n",
        "model.add(Flatten())\n",
        "  # ANN Layer\n",
        "#Connect\n",
        "model.add(Dense(128, activation='relu'))\n",
        "model.add(LeakyReLU(alpha = 0.2))\n",
        "model.add(Dense(32, activation='relu'))\n",
        "model.add(LeakyReLU(alpha = 0.1))\n",
        "\n",
        "#Output\n",
        "model.add(Dense(5, activation='softmax'))\n",
        "model.summary()"
      ],
      "metadata": {
        "colab": {
          "base_uri": "https://localhost:8080/"
        },
        "id": "9y0emBFHMup7",
        "outputId": "7c9f6232-99e7-49f7-c6f0-2c08e22f7504"
      },
      "execution_count": 11,
      "outputs": [
        {
          "output_type": "stream",
          "name": "stdout",
          "text": [
            "Model: \"sequential_2\"\n",
            "_________________________________________________________________\n",
            " Layer (type)                Output Shape              Param #   \n",
            "=================================================================\n",
            " conv2d_6 (Conv2D)           (None, 30, 40, 32)        896       \n",
            "                                                                 \n",
            " leaky_re_lu_8 (LeakyReLU)   (None, 30, 40, 32)        0         \n",
            "                                                                 \n",
            " max_pooling2d_6 (MaxPooling  (None, 15, 20, 32)       0         \n",
            " 2D)                                                             \n",
            "                                                                 \n",
            " conv2d_7 (Conv2D)           (None, 15, 20, 64)        18496     \n",
            "                                                                 \n",
            " dropout_2 (Dropout)         (None, 15, 20, 64)        0         \n",
            "                                                                 \n",
            " max_pooling2d_7 (MaxPooling  (None, 8, 10, 64)        0         \n",
            " 2D)                                                             \n",
            "                                                                 \n",
            " conv2d_8 (Conv2D)           (None, 8, 10, 128)        73856     \n",
            "                                                                 \n",
            " leaky_re_lu_9 (LeakyReLU)   (None, 8, 10, 128)        0         \n",
            "                                                                 \n",
            " max_pooling2d_8 (MaxPooling  (None, 4, 5, 128)        0         \n",
            " 2D)                                                             \n",
            "                                                                 \n",
            " flatten_2 (Flatten)         (None, 2560)              0         \n",
            "                                                                 \n",
            " dense_4 (Dense)             (None, 128)               327808    \n",
            "                                                                 \n",
            " leaky_re_lu_10 (LeakyReLU)  (None, 128)               0         \n",
            "                                                                 \n",
            " dense_5 (Dense)             (None, 32)                4128      \n",
            "                                                                 \n",
            " leaky_re_lu_11 (LeakyReLU)  (None, 32)                0         \n",
            "                                                                 \n",
            " dense_6 (Dense)             (None, 5)                 165       \n",
            "                                                                 \n",
            "=================================================================\n",
            "Total params: 425,349\n",
            "Trainable params: 425,349\n",
            "Non-trainable params: 0\n",
            "_________________________________________________________________\n"
          ]
        }
      ]
    },
    {
      "cell_type": "code",
      "source": [
        "# Thiết lập thông số\n",
        "model.compile( loss = 'categorical_crossentropy', optimizer=Adam(), metrics = ['accuracy'])\n",
        "# Huấn luyện\n",
        "# fit the model\n",
        "# Run the cell. It will take some time to execute\n",
        "a = model.fit_generator( training_set, epochs=80, steps_per_epoch=len(training_set)\n",
        ")"
      ],
      "metadata": {
        "colab": {
          "base_uri": "https://localhost:8080/"
        },
        "id": "r-ZLzEOfMyaK",
        "outputId": "41a6fbe3-3eb1-4019-a5e6-ac8d7022ab71"
      },
      "execution_count": 14,
      "outputs": [
        {
          "output_type": "stream",
          "name": "stderr",
          "text": [
            "<ipython-input-14-f5aecfae2108>:6: UserWarning: `Model.fit_generator` is deprecated and will be removed in a future version. Please use `Model.fit`, which supports generators.\n",
            "  a = model.fit_generator( training_set, epochs=80, steps_per_epoch=len(training_set)\n"
          ]
        },
        {
          "output_type": "stream",
          "name": "stdout",
          "text": [
            "Epoch 1/80\n",
            "4/4 [==============================] - 7s 2s/step - loss: 1.6164 - accuracy: 0.2300\n",
            "Epoch 2/80\n",
            "4/4 [==============================] - 5s 896ms/step - loss: 1.5350 - accuracy: 0.5500\n",
            "Epoch 3/80\n",
            "4/4 [==============================] - 6s 1s/step - loss: 1.3997 - accuracy: 0.5500\n",
            "Epoch 4/80\n",
            "4/4 [==============================] - 7s 1s/step - loss: 1.2046 - accuracy: 0.5700\n",
            "Epoch 5/80\n",
            "4/4 [==============================] - 5s 2s/step - loss: 0.9962 - accuracy: 0.5700\n",
            "Epoch 6/80\n",
            "4/4 [==============================] - 5s 1s/step - loss: 0.8691 - accuracy: 0.6600\n",
            "Epoch 7/80\n",
            "4/4 [==============================] - 7s 2s/step - loss: 0.7173 - accuracy: 0.6500\n",
            "Epoch 8/80\n",
            "4/4 [==============================] - 5s 971ms/step - loss: 0.6056 - accuracy: 0.7300\n",
            "Epoch 9/80\n",
            "4/4 [==============================] - 6s 2s/step - loss: 0.5676 - accuracy: 0.7600\n",
            "Epoch 10/80\n",
            "4/4 [==============================] - 7s 2s/step - loss: 0.4898 - accuracy: 0.8100\n",
            "Epoch 11/80\n",
            "4/4 [==============================] - 5s 757ms/step - loss: 0.4691 - accuracy: 0.8000\n",
            "Epoch 12/80\n",
            "4/4 [==============================] - 6s 992ms/step - loss: 0.4213 - accuracy: 0.8400\n",
            "Epoch 13/80\n",
            "4/4 [==============================] - 5s 1s/step - loss: 0.5188 - accuracy: 0.7700\n",
            "Epoch 14/80\n",
            "4/4 [==============================] - 7s 1s/step - loss: 0.4523 - accuracy: 0.8300\n",
            "Epoch 15/80\n",
            "4/4 [==============================] - 5s 2s/step - loss: 0.4296 - accuracy: 0.8400\n",
            "Epoch 16/80\n",
            "4/4 [==============================] - 5s 976ms/step - loss: 0.5564 - accuracy: 0.7500\n",
            "Epoch 17/80\n",
            "4/4 [==============================] - 6s 1s/step - loss: 0.4704 - accuracy: 0.8100\n",
            "Epoch 18/80\n",
            "4/4 [==============================] - 5s 2s/step - loss: 0.3410 - accuracy: 0.9000\n",
            "Epoch 19/80\n",
            "4/4 [==============================] - 7s 2s/step - loss: 0.2965 - accuracy: 0.9100\n",
            "Epoch 20/80\n",
            "4/4 [==============================] - 5s 2s/step - loss: 0.4430 - accuracy: 0.8200\n",
            "Epoch 21/80\n",
            "4/4 [==============================] - 5s 1s/step - loss: 0.3089 - accuracy: 0.8800\n",
            "Epoch 22/80\n",
            "4/4 [==============================] - 5s 2s/step - loss: 0.4289 - accuracy: 0.7700\n",
            "Epoch 23/80\n",
            "4/4 [==============================] - 6s 1s/step - loss: 0.2375 - accuracy: 0.9000\n",
            "Epoch 24/80\n",
            "4/4 [==============================] - 5s 1s/step - loss: 0.2584 - accuracy: 0.9000\n",
            "Epoch 25/80\n",
            "4/4 [==============================] - 7s 1s/step - loss: 0.2490 - accuracy: 0.9000\n",
            "Epoch 26/80\n",
            "4/4 [==============================] - 5s 1s/step - loss: 0.3439 - accuracy: 0.8000\n",
            "Epoch 27/80\n",
            "4/4 [==============================] - 7s 2s/step - loss: 0.2782 - accuracy: 0.8700\n",
            "Epoch 28/80\n",
            "4/4 [==============================] - 5s 1s/step - loss: 0.2243 - accuracy: 0.9100\n",
            "Epoch 29/80\n",
            "4/4 [==============================] - 6s 2s/step - loss: 0.2112 - accuracy: 0.9400\n",
            "Epoch 30/80\n",
            "4/4 [==============================] - 5s 1s/step - loss: 0.2056 - accuracy: 0.9200\n",
            "Epoch 31/80\n",
            "4/4 [==============================] - 5s 1s/step - loss: 0.1719 - accuracy: 0.9200\n",
            "Epoch 32/80\n",
            "4/4 [==============================] - 6s 2s/step - loss: 0.1667 - accuracy: 0.9400\n",
            "Epoch 33/80\n",
            "4/4 [==============================] - 5s 1s/step - loss: 0.1816 - accuracy: 0.9200\n",
            "Epoch 34/80\n",
            "4/4 [==============================] - 7s 2s/step - loss: 0.1701 - accuracy: 0.9200\n",
            "Epoch 35/80\n",
            "4/4 [==============================] - 5s 1s/step - loss: 0.2863 - accuracy: 0.8600\n",
            "Epoch 36/80\n",
            "4/4 [==============================] - 6s 2s/step - loss: 0.1953 - accuracy: 0.9200\n",
            "Epoch 37/80\n",
            "4/4 [==============================] - 6s 2s/step - loss: 0.1413 - accuracy: 0.9600\n",
            "Epoch 38/80\n",
            "4/4 [==============================] - 7s 1s/step - loss: 0.1500 - accuracy: 0.9500\n",
            "Epoch 39/80\n",
            "4/4 [==============================] - 5s 2s/step - loss: 0.1091 - accuracy: 0.9600\n",
            "Epoch 40/80\n",
            "4/4 [==============================] - 7s 2s/step - loss: 0.0900 - accuracy: 0.9700\n",
            "Epoch 41/80\n",
            "4/4 [==============================] - 5s 2s/step - loss: 0.1219 - accuracy: 0.9600\n",
            "Epoch 42/80\n",
            "4/4 [==============================] - 6s 2s/step - loss: 0.0579 - accuracy: 0.9900\n",
            "Epoch 43/80\n",
            "4/4 [==============================] - 5s 2s/step - loss: 0.0917 - accuracy: 0.9800\n",
            "Epoch 44/80\n",
            "4/4 [==============================] - 7s 1s/step - loss: 0.0797 - accuracy: 0.9800\n",
            "Epoch 45/80\n",
            "4/4 [==============================] - 5s 2s/step - loss: 0.1057 - accuracy: 0.9600\n",
            "Epoch 46/80\n",
            "4/4 [==============================] - 5s 1s/step - loss: 0.0381 - accuracy: 1.0000\n",
            "Epoch 47/80\n",
            "4/4 [==============================] - 5s 1s/step - loss: 0.0533 - accuracy: 0.9900\n",
            "Epoch 48/80\n",
            "4/4 [==============================] - 6s 1s/step - loss: 0.0324 - accuracy: 1.0000\n",
            "Epoch 49/80\n",
            "4/4 [==============================] - 5s 1s/step - loss: 0.0182 - accuracy: 1.0000\n",
            "Epoch 50/80\n",
            "4/4 [==============================] - 7s 2s/step - loss: 0.0694 - accuracy: 0.9700\n",
            "Epoch 51/80\n",
            "4/4 [==============================] - 5s 1s/step - loss: 0.0562 - accuracy: 0.9700\n",
            "Epoch 52/80\n",
            "4/4 [==============================] - 7s 2s/step - loss: 0.0239 - accuracy: 1.0000\n",
            "Epoch 53/80\n",
            "4/4 [==============================] - 5s 1s/step - loss: 0.0431 - accuracy: 0.9700\n",
            "Epoch 54/80\n",
            "4/4 [==============================] - 5s 1s/step - loss: 0.0403 - accuracy: 0.9900\n",
            "Epoch 55/80\n",
            "4/4 [==============================] - 7s 2s/step - loss: 0.0223 - accuracy: 1.0000\n",
            "Epoch 56/80\n",
            "4/4 [==============================] - 5s 1s/step - loss: 0.0435 - accuracy: 0.9700\n",
            "Epoch 57/80\n",
            "4/4 [==============================] - 5s 2s/step - loss: 0.0105 - accuracy: 1.0000\n",
            "Epoch 58/80\n",
            "4/4 [==============================] - 6s 2s/step - loss: 0.0200 - accuracy: 1.0000\n",
            "Epoch 59/80\n",
            "4/4 [==============================] - 5s 1s/step - loss: 0.0162 - accuracy: 1.0000\n",
            "Epoch 60/80\n",
            "4/4 [==============================] - 5s 2s/step - loss: 0.0098 - accuracy: 1.0000\n",
            "Epoch 61/80\n",
            "4/4 [==============================] - 6s 1s/step - loss: 0.0177 - accuracy: 0.9900\n",
            "Epoch 62/80\n",
            "4/4 [==============================] - 5s 1s/step - loss: 0.0117 - accuracy: 1.0000\n",
            "Epoch 63/80\n",
            "4/4 [==============================] - 5s 1s/step - loss: 0.0076 - accuracy: 1.0000\n",
            "Epoch 64/80\n",
            "4/4 [==============================] - 6s 1s/step - loss: 0.0139 - accuracy: 0.9900\n",
            "Epoch 65/80\n",
            "4/4 [==============================] - 5s 2s/step - loss: 0.0322 - accuracy: 0.9900\n",
            "Epoch 66/80\n",
            "4/4 [==============================] - 7s 1s/step - loss: 0.0414 - accuracy: 0.9800\n",
            "Epoch 67/80\n",
            "4/4 [==============================] - 5s 623ms/step - loss: 0.0475 - accuracy: 0.9900\n",
            "Epoch 68/80\n",
            "4/4 [==============================] - 6s 2s/step - loss: 0.0391 - accuracy: 0.9900\n",
            "Epoch 69/80\n",
            "4/4 [==============================] - 7s 1s/step - loss: 0.0215 - accuracy: 0.9900\n",
            "Epoch 70/80\n",
            "4/4 [==============================] - 5s 2s/step - loss: 0.0517 - accuracy: 0.9800\n",
            "Epoch 71/80\n",
            "4/4 [==============================] - 7s 2s/step - loss: 0.0879 - accuracy: 0.9700\n",
            "Epoch 72/80\n",
            "4/4 [==============================] - 5s 1s/step - loss: 0.1676 - accuracy: 0.9200\n",
            "Epoch 73/80\n",
            "4/4 [==============================] - 7s 2s/step - loss: 0.1181 - accuracy: 0.9500\n",
            "Epoch 74/80\n",
            "4/4 [==============================] - 5s 1s/step - loss: 0.2824 - accuracy: 0.9000\n",
            "Epoch 75/80\n",
            "4/4 [==============================] - 7s 2s/step - loss: 0.4678 - accuracy: 0.9100\n",
            "Epoch 76/80\n",
            "4/4 [==============================] - 6s 2s/step - loss: 0.1267 - accuracy: 0.9600\n",
            "Epoch 77/80\n",
            "4/4 [==============================] - 6s 1s/step - loss: 0.1148 - accuracy: 0.9700\n",
            "Epoch 78/80\n",
            "4/4 [==============================] - 5s 1s/step - loss: 0.0469 - accuracy: 1.0000\n",
            "Epoch 79/80\n",
            "4/4 [==============================] - 7s 1s/step - loss: 0.0512 - accuracy: 0.9900\n",
            "Epoch 80/80\n",
            "4/4 [==============================] - 5s 608ms/step - loss: 0.0320 - accuracy: 1.0000\n"
          ]
        }
      ]
    },
    {
      "cell_type": "code",
      "source": [
        "model.save('/content/drive/MyDrive/bt al/Hoa/flowers.h5')"
      ],
      "metadata": {
        "id": "ecMsmgyLRlKC"
      },
      "execution_count": 15,
      "outputs": []
    },
    {
      "cell_type": "code",
      "source": [
        "# Đánh giá độ chính xác của mô hình \n",
        "Score=model.evaluate(training_set,verbose=0)\n",
        "print('Train Loss', Score[0])\n",
        "print('Train Accuracy', Score[1])"
      ],
      "metadata": {
        "colab": {
          "base_uri": "https://localhost:8080/"
        },
        "id": "ekeYEkyFRs-Z",
        "outputId": "3c5fefa2-55e6-4dfc-cb72-f026b066adad"
      },
      "execution_count": 16,
      "outputs": [
        {
          "output_type": "stream",
          "name": "stdout",
          "text": [
            "Train Loss 0.03410027176141739\n",
            "Train Accuracy 0.9900000095367432\n"
          ]
        }
      ]
    },
    {
      "cell_type": "code",
      "source": [
        "# Vẽ đồ thị giữa số lần học (Epochs) và độ chính xác (Accuracy)\n",
        "plt.plot(a.history['accuracy'])\n",
        "plt.title('Model Accuracy')\n",
        "plt.ylabel('Accuracy')\n",
        "plt.xlabel('Epochs')\n",
        "plt.legend(['Train'])\n",
        "plt.show"
      ],
      "metadata": {
        "colab": {
          "base_uri": "https://localhost:8080/",
          "height": 489
        },
        "id": "-iQ_BOszRxf5",
        "outputId": "a3d29d86-5f0e-4f37-eb8a-e88e9762e49e"
      },
      "execution_count": 18,
      "outputs": [
        {
          "output_type": "execute_result",
          "data": {
            "text/plain": [
              "<function matplotlib.pyplot.show(close=None, block=None)>"
            ]
          },
          "metadata": {},
          "execution_count": 18
        },
        {
          "output_type": "display_data",
          "data": {
            "text/plain": [
              "<Figure size 640x480 with 1 Axes>"
            ],
            "image/png": "[encoded data removed]"
          },
          "metadata": {}
        }
      ]
    },
    {
      "cell_type": "code",
      "source": [
        "model1= load_model('/content/drive/MyDrive/bt al/Hoa/flowers.h5')"
      ],
      "metadata": {
        "id": "R5SCZ7LdSDsW"
      },
      "execution_count": 19,
      "outputs": []
    },
    {
      "cell_type": "code",
      "source": [
        "img = load_img('/content/drive/MyDrive/bt al/Hoa/test/Hoa hồng.jpg', target_size=(30,40))\n",
        "plt.imshow(img)"
      ],
      "metadata": {
        "colab": {
          "base_uri": "https://localhost:8080/",
          "height": 447
        },
        "id": "e9xfPTj3Sc13",
        "outputId": "77acdae4-4ea5-4e89-9b9f-01b397e6feee"
      },
      "execution_count": 28,
      "outputs": [
        {
          "output_type": "execute_result",
          "data": {
            "text/plain": [
              "<matplotlib.image.AxesImage at 0x7f71c9ef9340>"
            ]
          },
          "metadata": {},
          "execution_count": 28
        },
        {
          "output_type": "display_data",
          "data": {
            "text/plain": [
              "<Figure size 640x480 with 1 Axes>"
            ],
            "image/png": "[encoded data removed]"
          },
          "metadata": {}
        }
      ]
    },
    {
      "cell_type": "code",
      "source": [
        "class_name=['apricot', 'daisy', 'lotus', 'rose', 'waterlily']"
      ],
      "metadata": {
        "id": "3Dc-CjsFU4jy"
      },
      "execution_count": 27,
      "outputs": []
    },
    {
      "cell_type": "code",
      "source": [
        "imgRe = img_to_array(img)\n",
        "imgRe = imgRe.reshape(1,30,40,3)  \n",
        "imgRe = imgRe.astype('float32')\n",
        "imgRe /= 255\n",
        "y_pred = model.predict(imgRe)\n",
        "print(y_pred)\n",
        "y_classes = [np.argmax(element) for element in y_pred]\n",
        "y_classes\n",
        "class_name[y_classes[0]]"
      ],
      "metadata": {
        "colab": {
          "base_uri": "https://localhost:8080/",
          "height": 70
        },
        "id": "c1UiwxnrVJ9G",
        "outputId": "b69e9dd8-f5d1-4b4a-99ee-8d0ca97f4dec"
      },
      "execution_count": 33,
      "outputs": [
        {
          "output_type": "stream",
          "name": "stdout",
          "text": [
            "1/1 [==============================] - 0s 34ms/step\n",
            "[[1.8055417e-07 3.0994824e-15 1.1899194e-07 9.9999809e-01 1.5026643e-06]]\n"
          ]
        },
        {
          "output_type": "execute_result",
          "data": {
            "text/plain": [
              "'rose'"
            ],
            "application/vnd.google.colaboratory.intrinsic+json": {
              "type": "string"
            }
          },
          "metadata": {},
          "execution_count": 33
        }
      ]
    }
  ]
}