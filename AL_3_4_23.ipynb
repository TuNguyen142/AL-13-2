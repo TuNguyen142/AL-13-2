{
  "cells": [
    {
      "cell_type": "markdown",
      "metadata": {
        "id": "view-in-github",
        "colab_type": "text"
      },
      "source": [
        "<a href=\"https://colab.research.google.com/github/TuNguyen142/AL-13-2/blob/main/AL_3_4_23.ipynb\" target=\"_parent\"><img src=\"https://colab.research.google.com/assets/colab-badge.svg\" alt=\"Open In Colab\"/></a>"
      ]
    },
    {
      "cell_type": "code",
      "execution_count": 3,
      "metadata": {
        "id": "ncJpTIQ3Oyf4",
        "colab": {
          "base_uri": "https://localhost:8080/"
        },
        "outputId": "7b9a9e5a-80cb-4fb3-e718-fbf1f8d1d134"
      },
      "outputs": [
        {
          "output_type": "stream",
          "name": "stdout",
          "text": [
            "Downloading data from https://www.cs.toronto.edu/~kriz/cifar-100-python.tar.gz\n",
            "169001437/169001437 [==============================] - 6s 0us/step\n"
          ]
        }
      ],
      "source": [
        "from keras.datasets import cifar100\n",
        "(x_train,y_train),(x_test,y_test)=cifar100.load_data()\n",
        "\n",
        "\n",
        "\n"
      ]
    },
    {
      "cell_type": "code",
      "execution_count": 4,
      "metadata": {
        "id": "kZ9I1bZ1RFM7"
      },
      "outputs": [],
      "source": [
        "\n",
        "x_train=x_train.reshape(50000,32*32*3)\n",
        "x_train=x_train.astype('float32')/255\n"
      ]
    },
    {
      "cell_type": "code",
      "execution_count": 5,
      "metadata": {
        "id": "VW1KPHUzUEz6"
      },
      "outputs": [],
      "source": [
        "from keras.utils import to_categorical\n",
        "x_train = x_train.reshape((50000,32*32*3))\n",
        "x_train = x_train.astype('float32')/255\n",
        "x_test = x_test.reshape((10000, 32*32*3))\n",
        "x_test = x_test.astype('float32')/255\n",
        "\n",
        "y_test = to_categorical(y_test, 100)\n",
        "y_train=to_categorical(y_train,100)"
      ]
    },
    {
      "cell_type": "code",
      "execution_count": 6,
      "metadata": {
        "colab": {
          "base_uri": "https://localhost:8080/"
        },
        "id": "fqF-1o_MWMgS",
        "outputId": "9d8837b1-dfd6-444a-facc-3f0b7073fab3"
      },
      "outputs": [
        {
          "output_type": "stream",
          "name": "stdout",
          "text": [
            "Model: \"sequential\"\n",
            "_________________________________________________________________\n",
            " Layer (type)                Output Shape              Param #   \n",
            "=================================================================\n",
            " dense (Dense)               (None, 2000)              6146000   \n",
            "                                                                 \n",
            " dense_1 (Dense)             (None, 100)               200100    \n",
            "                                                                 \n",
            "=================================================================\n",
            "Total params: 6,346,100\n",
            "Trainable params: 6,346,100\n",
            "Non-trainable params: 0\n",
            "_________________________________________________________________\n"
          ]
        }
      ],
      "source": [
        "from keras.models import Sequential\n",
        "from keras.layers import Dense\n",
        "model=Sequential()\n",
        "model.add(Dense(2000,activation='relu',input_shape=(32*32*3,)))\n",
        "model.add(Dense(100,activation='softmax'))\n",
        "model.summary()"
      ]
    },
    {
      "cell_type": "code",
      "execution_count": 7,
      "metadata": {
        "colab": {
          "base_uri": "https://localhost:8080/"
        },
        "id": "kUF7Bd5mXVfW",
        "outputId": "6baace82-b43c-45b9-9e42-0d820af48ddd"
      },
      "outputs": [
        {
          "output_type": "stream",
          "name": "stdout",
          "text": [
            "Epoch 1/10\n",
            "391/391 [==============================] - 37s 93ms/step - loss: 4.6022 - accuracy: 0.0140\n",
            "Epoch 2/10\n",
            "391/391 [==============================] - 35s 90ms/step - loss: 4.5658 - accuracy: 0.0251\n",
            "Epoch 3/10\n",
            "391/391 [==============================] - 38s 96ms/step - loss: 4.4574 - accuracy: 0.0439\n",
            "Epoch 4/10\n",
            "391/391 [==============================] - 35s 90ms/step - loss: 4.3068 - accuracy: 0.0590\n",
            "Epoch 5/10\n",
            "391/391 [==============================] - 38s 96ms/step - loss: 4.1760 - accuracy: 0.0709\n",
            "Epoch 6/10\n",
            "391/391 [==============================] - 37s 94ms/step - loss: 4.0951 - accuracy: 0.0794\n",
            "Epoch 7/10\n",
            "391/391 [==============================] - 37s 94ms/step - loss: 4.0462 - accuracy: 0.0849\n",
            "Epoch 8/10\n",
            "391/391 [==============================] - 36s 92ms/step - loss: 4.0133 - accuracy: 0.0892\n",
            "Epoch 9/10\n",
            "391/391 [==============================] - 36s 92ms/step - loss: 3.9868 - accuracy: 0.0937\n",
            "Epoch 10/10\n",
            "391/391 [==============================] - 35s 89ms/step - loss: 3.9615 - accuracy: 0.0981\n",
            "1563/1563 [==============================] - 20s 13ms/step - loss: 3.9443 - accuracy: 0.1022\n",
            "test_accuracy:  0.1021599993109703\n",
            "test_loss:  3.9442806243896484\n"
          ]
        }
      ],
      "source": [
        "model.compile(optimizer = 'rmsprop', loss = 'categorical_crossentropy', metrics = 'accuracy')\n",
        "model.fit(x_train, y_train, epochs = 10, batch_size = 128)\n",
        "test_loss, test_acc = model.evaluate(x_train, y_train)\n",
        "print('test_accuracy: ', test_acc)\n",
        "print('test_loss: ', test_loss)"
      ]
    },
    {
      "cell_type": "code",
      "source": [
        "model.save('model100.h5')"
      ],
      "metadata": {
        "id": "vTcTcKSgg0UY"
      },
      "execution_count": 8,
      "outputs": []
    },
    {
      "cell_type": "markdown",
      "metadata": {
        "id": "o4oHg0S-aoQh"
      },
      "source": [
        "# Mục mới"
      ]
    },
    {
      "cell_type": "code",
      "source": [
        "from google.colab import drive\n",
        "drive.mount('/content/gdrive')"
      ],
      "metadata": {
        "colab": {
          "base_uri": "https://localhost:8080/"
        },
        "id": "2CF1g1yXd3FI",
        "outputId": "c1964c55-97cb-43f2-8f9d-0b321debcf2b"
      },
      "execution_count": 18,
      "outputs": [
        {
          "output_type": "stream",
          "name": "stdout",
          "text": [
            "Mounted at /content/gdrive\n"
          ]
        }
      ]
    },
    {
      "cell_type": "code",
      "source": [
        "model.save('/content/gdrive/MyDrive/1/model100.h5')"
      ],
      "metadata": {
        "id": "Rlq-qyxUgb-_"
      },
      "execution_count": 19,
      "outputs": []
    },
    {
      "cell_type": "code",
      "source": [
        "from keras.models import load_model\n",
        "from google.colab import drive\n",
        "drive.mount('/content/drive')\n",
        "model=load_model('/content/drive/MyDrive/1/model100.h5')"
      ],
      "metadata": {
        "colab": {
          "base_uri": "https://localhost:8080/"
        },
        "id": "yF4TWxWTmq-2",
        "outputId": "36db1532-dc5a-4c97-f5c6-963142c101f6"
      },
      "execution_count": 21,
      "outputs": [
        {
          "output_type": "stream",
          "name": "stdout",
          "text": [
            "Drive already mounted at /content/drive; to attempt to forcibly remount, call drive.mount(\"/content/drive\", force_remount=True).\n"
          ]
        }
      ]
    },
    {
      "cell_type": "code",
      "source": [
        "import matplotlib.pyplot as plt\n",
        "from keras.utils import load_img, img_to_array\n",
        "img = load_img('/content/drive/MyDrive/12.webp', target_size=(32,32))\n",
        "plt.imshow(img)"
      ],
      "metadata": {
        "colab": {
          "base_uri": "https://localhost:8080/",
          "height": 283
        },
        "id": "g5k9pKA5neZt",
        "outputId": "d2e4a659-1284-45a2-d9e4-0b351d14d7dd"
      },
      "execution_count": 31,
      "outputs": [
        {
          "output_type": "execute_result",
          "data": {
            "text/plain": [
              "<matplotlib.image.AxesImage at 0x7f3ea1a1fd00>"
            ]
          },
          "metadata": {},
          "execution_count": 31
        },
        {
          "output_type": "display_data",
          "data": {
            "text/plain": [
              "<Figure size 432x288 with 1 Axes>"
            ],
            "image/png": "[encoded data removed]"
          },
          "metadata": {
            "needs_background": "light"
          }
        }
      ]
    },
    {
      "cell_type": "code",
      "source": [
        "import numpy as np\n",
        "img = img_to_array(img)\n",
        "img=img.reshape(1,32*32*3)\n",
        "img=img.astype('float32')\n",
        "img=img/255\n",
        "np.argmax(model.predict(img),axis=-1)"
      ],
      "metadata": {
        "colab": {
          "base_uri": "https://localhost:8080/"
        },
        "id": "g4DB-ZjZn6Vi",
        "outputId": "cb445f3b-93b3-4eb3-945a-693fec1833d7"
      },
      "execution_count": 32,
      "outputs": [
        {
          "output_type": "stream",
          "name": "stdout",
          "text": [
            "1/1 [==============================] - 0s 81ms/step\n"
          ]
        },
        {
          "output_type": "execute_result",
          "data": {
            "text/plain": [
              "array([20])"
            ]
          },
          "metadata": {},
          "execution_count": 32
        }
      ]
    },
    {
      "cell_type": "code",
      "source": [
        "folder = '/content/gdrive/MyDrive/ColabNotebooks'\n",
        "\n",
        "for i in range (30):\n",
        "    plt.subplot(6,5,i+1)\n",
        "    filename = folder + 'A' + str(i) + 'jpg'\n",
        "    img = imread(filename)\n",
        "    plt.imshow(img)\n",
        "plt.show()"
      ],
      "metadata": {
        "colab": {
          "base_uri": "https://localhost:8080/",
          "height": 301
        },
        "id": "uy0CTEDKpCBq",
        "outputId": "0c14eac2-4632-43de-c73a-be5677f7af14"
      },
      "execution_count": 33,
      "outputs": [
        {
          "output_type": "error",
          "ename": "NameError",
          "evalue": "ignored",
          "traceback": [
            "\u001b[0;31m---------------------------------------------------------------------------\u001b[0m",
            "\u001b[0;31mNameError\u001b[0m                                 Traceback (most recent call last)",
            "\u001b[0;32m<ipython-input-33-2abc588d19fc>\u001b[0m in \u001b[0;36m<module>\u001b[0;34m\u001b[0m\n\u001b[1;32m      4\u001b[0m     \u001b[0mplt\u001b[0m\u001b[0;34m.\u001b[0m\u001b[0msubplot\u001b[0m\u001b[0;34m(\u001b[0m\u001b[0;36m6\u001b[0m\u001b[0;34m,\u001b[0m\u001b[0;36m5\u001b[0m\u001b[0;34m,\u001b[0m\u001b[0mi\u001b[0m\u001b[0;34m+\u001b[0m\u001b[0;36m1\u001b[0m\u001b[0;34m)\u001b[0m\u001b[0;34m\u001b[0m\u001b[0;34m\u001b[0m\u001b[0m\n\u001b[1;32m      5\u001b[0m     \u001b[0mfilename\u001b[0m \u001b[0;34m=\u001b[0m \u001b[0mfolder\u001b[0m \u001b[0;34m+\u001b[0m \u001b[0;34m'A'\u001b[0m \u001b[0;34m+\u001b[0m \u001b[0mstr\u001b[0m\u001b[0;34m(\u001b[0m\u001b[0mi\u001b[0m\u001b[0;34m)\u001b[0m \u001b[0;34m+\u001b[0m \u001b[0;34m'jpg'\u001b[0m\u001b[0;34m\u001b[0m\u001b[0;34m\u001b[0m\u001b[0m\n\u001b[0;32m----> 6\u001b[0;31m     \u001b[0mimg\u001b[0m \u001b[0;34m=\u001b[0m \u001b[0mimread\u001b[0m\u001b[0;34m(\u001b[0m\u001b[0mfilename\u001b[0m\u001b[0;34m)\u001b[0m\u001b[0;34m\u001b[0m\u001b[0;34m\u001b[0m\u001b[0m\n\u001b[0m\u001b[1;32m      7\u001b[0m     \u001b[0mplt\u001b[0m\u001b[0;34m.\u001b[0m\u001b[0mimshow\u001b[0m\u001b[0;34m(\u001b[0m\u001b[0mimg\u001b[0m\u001b[0;34m)\u001b[0m\u001b[0;34m\u001b[0m\u001b[0;34m\u001b[0m\u001b[0m\n\u001b[1;32m      8\u001b[0m \u001b[0mplt\u001b[0m\u001b[0;34m.\u001b[0m\u001b[0mshow\u001b[0m\u001b[0;34m(\u001b[0m\u001b[0;34m)\u001b[0m\u001b[0;34m\u001b[0m\u001b[0;34m\u001b[0m\u001b[0m\n",
            "\u001b[0;31mNameError\u001b[0m: name 'imread' is not defined"
          ]
        },
        {
          "output_type": "display_data",
          "data": {
            "text/plain": [
              "<Figure size 432x288 with 1 Axes>"
            ],
            "image/png": "[encoded data removed]"
          },
          "metadata": {
            "needs_background": "light"
          }
        }
      ]
    }
  ],
  "metadata": {
    "colab": {
      "provenance": [],
      "mount_file_id": "1_0L71bbpsE-NefQ3isr69W2BCe_rEy7F",
      "authorship_tag": "ABX9TyN9bh3JxfmOJugL4jI9MPP3",
      "include_colab_link": true
    },
    "kernelspec": {
      "display_name": "Python 3",
      "name": "python3"
    },
    "language_info": {
      "name": "python"
    }
  },
  "nbformat": 4,
  "nbformat_minor": 0
}