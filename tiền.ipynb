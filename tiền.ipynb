{
  "nbformat": 4,
  "nbformat_minor": 0,
  "metadata": {
    "colab": {
      "provenance": [],
      "authorship_tag": "ABX9TyOT25R3S7cgwAgfEepgtmhS",
      "include_colab_link": true
    },
    "kernelspec": {
      "name": "python3",
      "display_name": "Python 3"
    },
    "language_info": {
      "name": "python"
    }
  },
  "cells": [
    {
      "cell_type": "markdown",
      "metadata": {
        "id": "view-in-github",
        "colab_type": "text"
      },
      "source": [
        "<a href=\"https://colab.research.google.com/github/TuNguyen142/AL-13-2/blob/main/ti%E1%BB%81n.ipynb\" target=\"_parent\"><img src=\"https://colab.research.google.com/assets/colab-badge.svg\" alt=\"Open In Colab\"/></a>"
      ]
    },
    {
      "cell_type": "code",
      "execution_count": 1,
      "metadata": {
        "colab": {
          "base_uri": "https://localhost:8080/"
        },
        "id": "er8NWUW_V-D8",
        "outputId": "166d9e1c-dc0e-4aae-df29-f6f34f6752e3"
      },
      "outputs": [
        {
          "output_type": "stream",
          "name": "stdout",
          "text": [
            "Mounted at /content/drive\n"
          ]
        }
      ],
      "source": [
        "from google.colab import drive\n",
        "drive.mount('/content/drive')"
      ]
    },
    {
      "cell_type": "code",
      "source": [
        "# Khai báo và sử dụng các thư viện sau\n",
        "from sklearn.model_selection import train_test_split\n",
        "import matplotlib.pyplot as plt\n",
        "import os\n",
        "import numpy as np\n",
        "import tensorflow as tf\n",
        "from keras.utils import np_utils\n",
        "from keras.models import Sequential\n",
        "from keras.layers import Dense, Activation, Dropout, Conv2D, MaxPooling2D, Flatten,  LeakyReLU\n",
        "from tensorflow.keras.optimizers import SGD, RMSprop\n",
        "from keras.callbacks import EarlyStopping, ModelCheckpoint\n",
        "from sklearn.utils import validation \n",
        "from sklearn import preprocessing\n",
        "from tensorflow.keras.utils import to_categorical\n",
        "from tensorflow.keras.models import load_model\n",
        "from tensorflow.keras.utils import load_img, img_to_array\n",
        "from tensorflow.keras.preprocessing.image import ImageDataGenerator"
      ],
      "metadata": {
        "id": "rqXTcZNjWbae"
      },
      "execution_count": 2,
      "outputs": []
    },
    {
      "cell_type": "code",
      "source": [
        "%cd /content/drive/MyDrive/bt al/tiền"
      ],
      "metadata": {
        "colab": {
          "base_uri": "https://localhost:8080/"
        },
        "id": "rOstLnGhWejO",
        "outputId": "05cbce46-62ba-4ae8-d797-3c782e8951b1"
      },
      "execution_count": 3,
      "outputs": [
        {
          "output_type": "stream",
          "name": "stdout",
          "text": [
            "/content/drive/MyDrive/bt al/tiền\n"
          ]
        }
      ]
    },
    {
      "cell_type": "code",
      "source": [
        "# Tạo ra class ImageDataGenerator để chỉnh sửa ảnh \n",
        "train=ImageDataGenerator(rescale=1./255, shear_range=0.2, zoom_range=0.2, horizontal_flip=True)"
      ],
      "metadata": {
        "id": "-Ah8279EWgDG"
      },
      "execution_count": 4,
      "outputs": []
    },
    {
      "cell_type": "code",
      "source": [
        "# Tạo bộ dữ liệu training set\n",
        "training_set=train.flow_from_directory('/content/drive/MyDrive/bt al/tiền/Cash',\n",
        "                                               target_size=(30,40), batch_size=32, class_mode='categorical')"
      ],
      "metadata": {
        "colab": {
          "base_uri": "https://localhost:8080/"
        },
        "id": "EbPBunU7Wpp1",
        "outputId": "66600c28-00fc-4f12-e1bf-65b1197d8f2b"
      },
      "execution_count": 5,
      "outputs": [
        {
          "output_type": "stream",
          "name": "stdout",
          "text": [
            "Found 120 images belonging to 6 classes.\n"
          ]
        }
      ]
    },
    {
      "cell_type": "code",
      "source": [
        "# Các nhãn có trong bộ dữ liệu training set\n",
        "training_set.class_indices"
      ],
      "metadata": {
        "colab": {
          "base_uri": "https://localhost:8080/"
        },
        "id": "qxrwU_GEWxk-",
        "outputId": "d72190bf-2dc2-4e63-b307-8a1840e1fdd8"
      },
      "execution_count": 6,
      "outputs": [
        {
          "output_type": "execute_result",
          "data": {
            "text/plain": [
              "{'10000': 0, '100000': 1, '20000': 2, '5000': 3, '50000': 4, '500000': 5}"
            ]
          },
          "metadata": {},
          "execution_count": 6
        }
      ]
    },
    {
      "cell_type": "code",
      "source": [
        "# Tạo ra mạng CNN để train mô hình\n",
        "model=Sequential()\n",
        "\n",
        "model.add(Conv2D(32,(3,3), activation='linear', kernel_initializer='he_uniform', padding='same',input_shape=(30,40,3))) \n",
        "model.add(LeakyReLU(alpha = 0.1))\n",
        "model.add(MaxPooling2D((2,2), padding = 'same'))\n",
        "\n",
        "\n",
        "model.add(Conv2D(64,(3,3), activation='linear', kernel_initializer='he_uniform', padding='same')) \n",
        "model.add(LeakyReLU(alpha = 0.1))\n",
        "model.add(MaxPooling2D((2,2), padding = 'same'))\n",
        "\n",
        "model.add(Conv2D(128,(3,3), activation='linear', kernel_initializer='he_uniform', padding='same')) \n",
        "model.add(LeakyReLU(alpha = 0.1))\n",
        "model.add(MaxPooling2D((2,2), padding = 'same'))\n",
        "\n",
        "model.add(Flatten())\n",
        "model.add(Dense(256,activation='linear',kernel_initializer='he_uniform'))\n",
        "model.add(Dropout(0.2))\n",
        "model.add(LeakyReLU(alpha = 0.1))\n",
        "model.add(Dense(6,activation='softmax'))\n",
        "\n",
        "# Biên dịch \n",
        "model.compile(optimizer='adam',loss='categorical_crossentropy',metrics=['accuracy'])\n",
        "model.summary()\n",
        "     "
      ],
      "metadata": {
        "colab": {
          "base_uri": "https://localhost:8080/"
        },
        "id": "zccVNCtQW082",
        "outputId": "c46e227c-b6a4-4bb9-dc6a-44f43efb5815"
      },
      "execution_count": 28,
      "outputs": [
        {
          "output_type": "stream",
          "name": "stdout",
          "text": [
            "Model: \"sequential_7\"\n",
            "_________________________________________________________________\n",
            " Layer (type)                Output Shape              Param #   \n",
            "=================================================================\n",
            " conv2d_21 (Conv2D)          (None, 30, 40, 32)        896       \n",
            "                                                                 \n",
            " leaky_re_lu_29 (LeakyReLU)  (None, 30, 40, 32)        0         \n",
            "                                                                 \n",
            " max_pooling2d_21 (MaxPoolin  (None, 15, 20, 32)       0         \n",
            " g2D)                                                            \n",
            "                                                                 \n",
            " conv2d_22 (Conv2D)          (None, 15, 20, 64)        18496     \n",
            "                                                                 \n",
            " leaky_re_lu_30 (LeakyReLU)  (None, 15, 20, 64)        0         \n",
            "                                                                 \n",
            " max_pooling2d_22 (MaxPoolin  (None, 8, 10, 64)        0         \n",
            " g2D)                                                            \n",
            "                                                                 \n",
            " conv2d_23 (Conv2D)          (None, 8, 10, 128)        73856     \n",
            "                                                                 \n",
            " leaky_re_lu_31 (LeakyReLU)  (None, 8, 10, 128)        0         \n",
            "                                                                 \n",
            " max_pooling2d_23 (MaxPoolin  (None, 4, 5, 128)        0         \n",
            " g2D)                                                            \n",
            "                                                                 \n",
            " flatten_8 (Flatten)         (None, 2560)              0         \n",
            "                                                                 \n",
            " dense_19 (Dense)            (None, 256)               655616    \n",
            "                                                                 \n",
            " dropout_6 (Dropout)         (None, 256)               0         \n",
            "                                                                 \n",
            " leaky_re_lu_32 (LeakyReLU)  (None, 256)               0         \n",
            "                                                                 \n",
            " dense_20 (Dense)            (None, 6)                 1542      \n",
            "                                                                 \n",
            "=================================================================\n",
            "Total params: 750,406\n",
            "Trainable params: 750,406\n",
            "Non-trainable params: 0\n",
            "_________________________________________________________________\n"
          ]
        }
      ]
    },
    {
      "cell_type": "code",
      "source": [
        "a = model.fit_generator( training_set, epochs=80, steps_per_epoch=len(training_set)\n",
        ")"
      ],
      "metadata": {
        "colab": {
          "base_uri": "https://localhost:8080/"
        },
        "id": "f_DzP3qSY-KV",
        "outputId": "72a199a8-e73a-45a0-a729-05c95e47c3bd"
      },
      "execution_count": 29,
      "outputs": [
        {
          "output_type": "stream",
          "name": "stderr",
          "text": [
            "<ipython-input-29-d08e984be685>:1: UserWarning: `Model.fit_generator` is deprecated and will be removed in a future version. Please use `Model.fit`, which supports generators.\n",
            "  a = model.fit_generator( training_set, epochs=80, steps_per_epoch=len(training_set)\n"
          ]
        },
        {
          "output_type": "stream",
          "name": "stdout",
          "text": [
            "Epoch 1/80\n",
            "4/4 [==============================] - 5s 769ms/step - loss: 4.5719 - accuracy: 0.1167\n",
            "Epoch 2/80\n",
            "4/4 [==============================] - 3s 864ms/step - loss: 2.2770 - accuracy: 0.2250\n",
            "Epoch 3/80\n",
            "4/4 [==============================] - 3s 788ms/step - loss: 1.8978 - accuracy: 0.2083\n",
            "Epoch 4/80\n",
            "4/4 [==============================] - 4s 886ms/step - loss: 1.6652 - accuracy: 0.3750\n",
            "Epoch 5/80\n",
            "4/4 [==============================] - 3s 801ms/step - loss: 1.6133 - accuracy: 0.3667\n",
            "Epoch 6/80\n",
            "4/4 [==============================] - 3s 817ms/step - loss: 1.5202 - accuracy: 0.4417\n",
            "Epoch 7/80\n",
            "4/4 [==============================] - 5s 1s/step - loss: 1.3903 - accuracy: 0.4917\n",
            "Epoch 8/80\n",
            "4/4 [==============================] - 3s 806ms/step - loss: 1.1950 - accuracy: 0.5667\n",
            "Epoch 9/80\n",
            "4/4 [==============================] - 3s 783ms/step - loss: 1.1266 - accuracy: 0.5750\n",
            "Epoch 10/80\n",
            "4/4 [==============================] - 4s 1s/step - loss: 1.0219 - accuracy: 0.6083\n",
            "Epoch 11/80\n",
            "4/4 [==============================] - 4s 874ms/step - loss: 0.8795 - accuracy: 0.6667\n",
            "Epoch 12/80\n",
            "4/4 [==============================] - 3s 786ms/step - loss: 0.8188 - accuracy: 0.7333\n",
            "Epoch 13/80\n",
            "4/4 [==============================] - 4s 1s/step - loss: 0.8211 - accuracy: 0.7000\n",
            "Epoch 14/80\n",
            "4/4 [==============================] - 4s 936ms/step - loss: 0.6396 - accuracy: 0.7833\n",
            "Epoch 15/80\n",
            "4/4 [==============================] - 3s 786ms/step - loss: 0.6439 - accuracy: 0.7833\n",
            "Epoch 16/80\n",
            "4/4 [==============================] - 3s 802ms/step - loss: 0.5554 - accuracy: 0.8083\n",
            "Epoch 17/80\n",
            "4/4 [==============================] - 4s 1s/step - loss: 0.4780 - accuracy: 0.8750\n",
            "Epoch 18/80\n",
            "4/4 [==============================] - 3s 799ms/step - loss: 0.3998 - accuracy: 0.8917\n",
            "Epoch 19/80\n",
            "4/4 [==============================] - 3s 863ms/step - loss: 0.3601 - accuracy: 0.8750\n",
            "Epoch 20/80\n",
            "4/4 [==============================] - 4s 1s/step - loss: 0.3113 - accuracy: 0.8917\n",
            "Epoch 21/80\n",
            "4/4 [==============================] - 4s 892ms/step - loss: 0.2433 - accuracy: 0.9000\n",
            "Epoch 22/80\n",
            "4/4 [==============================] - 3s 803ms/step - loss: 0.2375 - accuracy: 0.9167\n",
            "Epoch 23/80\n",
            "4/4 [==============================] - 5s 1s/step - loss: 0.3537 - accuracy: 0.8750\n",
            "Epoch 24/80\n",
            "4/4 [==============================] - 3s 861ms/step - loss: 0.3909 - accuracy: 0.8750\n",
            "Epoch 25/80\n",
            "4/4 [==============================] - 3s 783ms/step - loss: 0.2729 - accuracy: 0.9250\n",
            "Epoch 26/80\n",
            "4/4 [==============================] - 4s 944ms/step - loss: 0.2134 - accuracy: 0.9250\n",
            "Epoch 27/80\n",
            "4/4 [==============================] - 4s 954ms/step - loss: 0.1679 - accuracy: 0.9250\n",
            "Epoch 28/80\n",
            "4/4 [==============================] - 3s 794ms/step - loss: 0.2207 - accuracy: 0.9583\n",
            "Epoch 29/80\n",
            "4/4 [==============================] - 3s 785ms/step - loss: 0.1809 - accuracy: 0.9583\n",
            "Epoch 30/80\n",
            "4/4 [==============================] - 5s 1s/step - loss: 0.1385 - accuracy: 0.9833\n",
            "Epoch 31/80\n",
            "4/4 [==============================] - 3s 796ms/step - loss: 0.2173 - accuracy: 0.9250\n",
            "Epoch 32/80\n",
            "4/4 [==============================] - 3s 802ms/step - loss: 0.1724 - accuracy: 0.9500\n",
            "Epoch 33/80\n",
            "4/4 [==============================] - 5s 1s/step - loss: 0.1795 - accuracy: 0.9333\n",
            "Epoch 34/80\n",
            "4/4 [==============================] - 3s 798ms/step - loss: 0.1627 - accuracy: 0.9083\n",
            "Epoch 35/80\n",
            "4/4 [==============================] - 3s 821ms/step - loss: 0.1987 - accuracy: 0.9167\n",
            "Epoch 36/80\n",
            "4/4 [==============================] - 4s 1s/step - loss: 0.1977 - accuracy: 0.9167\n",
            "Epoch 37/80\n",
            "4/4 [==============================] - 3s 781ms/step - loss: 0.1066 - accuracy: 0.9667\n",
            "Epoch 38/80\n",
            "4/4 [==============================] - 3s 847ms/step - loss: 0.1358 - accuracy: 0.9500\n",
            "Epoch 39/80\n",
            "4/4 [==============================] - 4s 1s/step - loss: 0.0737 - accuracy: 0.9750\n",
            "Epoch 40/80\n",
            "4/4 [==============================] - 4s 831ms/step - loss: 0.0957 - accuracy: 0.9583\n",
            "Epoch 41/80\n",
            "4/4 [==============================] - 3s 783ms/step - loss: 0.0812 - accuracy: 0.9917\n",
            "Epoch 42/80\n",
            "4/4 [==============================] - 3s 787ms/step - loss: 0.0541 - accuracy: 0.9833\n",
            "Epoch 43/80\n",
            "4/4 [==============================] - 5s 1s/step - loss: 0.0506 - accuracy: 0.9917\n",
            "Epoch 44/80\n",
            "4/4 [==============================] - 3s 859ms/step - loss: 0.0504 - accuracy: 0.9917\n",
            "Epoch 45/80\n",
            "4/4 [==============================] - 3s 799ms/step - loss: 0.0357 - accuracy: 0.9917\n",
            "Epoch 46/80\n",
            "4/4 [==============================] - 5s 1s/step - loss: 0.0450 - accuracy: 0.9833\n",
            "Epoch 47/80\n",
            "4/4 [==============================] - 3s 773ms/step - loss: 0.0447 - accuracy: 1.0000\n",
            "Epoch 48/80\n",
            "4/4 [==============================] - 3s 871ms/step - loss: 0.0280 - accuracy: 0.9917\n",
            "Epoch 49/80\n",
            "4/4 [==============================] - 5s 1s/step - loss: 0.0470 - accuracy: 0.9833\n",
            "Epoch 50/80\n",
            "4/4 [==============================] - 3s 792ms/step - loss: 0.0344 - accuracy: 1.0000\n",
            "Epoch 51/80\n",
            "4/4 [==============================] - 3s 770ms/step - loss: 0.0523 - accuracy: 0.9750\n",
            "Epoch 52/80\n",
            "4/4 [==============================] - 4s 1s/step - loss: 0.0170 - accuracy: 1.0000\n",
            "Epoch 53/80\n",
            "4/4 [==============================] - 3s 801ms/step - loss: 0.0281 - accuracy: 1.0000\n",
            "Epoch 54/80\n",
            "4/4 [==============================] - 3s 778ms/step - loss: 0.0259 - accuracy: 1.0000\n",
            "Epoch 55/80\n",
            "4/4 [==============================] - 4s 969ms/step - loss: 0.0127 - accuracy: 1.0000\n",
            "Epoch 56/80\n",
            "4/4 [==============================] - 3s 778ms/step - loss: 0.0532 - accuracy: 0.9917\n",
            "Epoch 57/80\n",
            "4/4 [==============================] - 3s 867ms/step - loss: 0.0192 - accuracy: 1.0000\n",
            "Epoch 58/80\n",
            "4/4 [==============================] - 5s 1s/step - loss: 0.0226 - accuracy: 0.9917\n",
            "Epoch 59/80\n",
            "4/4 [==============================] - 4s 790ms/step - loss: 0.0425 - accuracy: 0.9917\n",
            "Epoch 60/80\n",
            "4/4 [==============================] - 3s 793ms/step - loss: 0.0631 - accuracy: 0.9750\n",
            "Epoch 61/80\n",
            "4/4 [==============================] - 3s 792ms/step - loss: 0.1301 - accuracy: 0.9417\n",
            "Epoch 62/80\n",
            "4/4 [==============================] - 5s 1s/step - loss: 0.0721 - accuracy: 0.9750\n",
            "Epoch 63/80\n",
            "4/4 [==============================] - 3s 813ms/step - loss: 0.1520 - accuracy: 0.9417\n",
            "Epoch 64/80\n",
            "4/4 [==============================] - 3s 787ms/step - loss: 0.1423 - accuracy: 0.9500\n",
            "Epoch 65/80\n",
            "4/4 [==============================] - 3s 842ms/step - loss: 0.1567 - accuracy: 0.9667\n",
            "Epoch 66/80\n",
            "4/4 [==============================] - 5s 1s/step - loss: 0.0668 - accuracy: 0.9833\n",
            "Epoch 67/80\n",
            "4/4 [==============================] - 3s 784ms/step - loss: 0.1443 - accuracy: 0.9417\n",
            "Epoch 68/80\n",
            "4/4 [==============================] - 3s 800ms/step - loss: 0.1371 - accuracy: 0.9583\n",
            "Epoch 69/80\n",
            "4/4 [==============================] - 4s 870ms/step - loss: 0.0496 - accuracy: 0.9917\n",
            "Epoch 70/80\n",
            "4/4 [==============================] - 3s 772ms/step - loss: 0.1109 - accuracy: 0.9667\n",
            "Epoch 71/80\n",
            "4/4 [==============================] - 3s 800ms/step - loss: 0.0500 - accuracy: 0.9917\n",
            "Epoch 72/80\n",
            "4/4 [==============================] - 5s 1s/step - loss: 0.0618 - accuracy: 0.9833\n",
            "Epoch 73/80\n",
            "4/4 [==============================] - 3s 789ms/step - loss: 0.0224 - accuracy: 1.0000\n",
            "Epoch 74/80\n",
            "4/4 [==============================] - 3s 795ms/step - loss: 0.0173 - accuracy: 1.0000\n",
            "Epoch 75/80\n",
            "4/4 [==============================] - 5s 1s/step - loss: 0.0570 - accuracy: 0.9750\n",
            "Epoch 76/80\n",
            "4/4 [==============================] - 3s 808ms/step - loss: 0.0169 - accuracy: 1.0000\n",
            "Epoch 77/80\n",
            "4/4 [==============================] - 3s 808ms/step - loss: 0.0180 - accuracy: 1.0000\n",
            "Epoch 78/80\n",
            "4/4 [==============================] - 4s 894ms/step - loss: 0.0069 - accuracy: 1.0000\n",
            "Epoch 79/80\n",
            "4/4 [==============================] - 5s 1s/step - loss: 0.0079 - accuracy: 1.0000\n",
            "Epoch 80/80\n",
            "4/4 [==============================] - 3s 789ms/step - loss: 0.0162 - accuracy: 0.9917\n"
          ]
        }
      ]
    },
    {
      "cell_type": "code",
      "source": [
        "model.save('/content/drive/MyDrive/bt al/tiền/Cash.h5')\n"
      ],
      "metadata": {
        "id": "Vcq4usS0cUrc"
      },
      "execution_count": 31,
      "outputs": []
    },
    {
      "cell_type": "code",
      "source": [
        "# Đánh giá độ chính xác của mô hình \n",
        "Score=model.evaluate(training_set,verbose=0)\n",
        "print('Train Loss', Score[0])\n",
        "print('Train Accuracy', Score[1])"
      ],
      "metadata": {
        "colab": {
          "base_uri": "https://localhost:8080/"
        },
        "id": "EO6wc7CNdI_r",
        "outputId": "45ed378e-cf6c-4e19-cdc0-9186cf36dffe"
      },
      "execution_count": 32,
      "outputs": [
        {
          "output_type": "stream",
          "name": "stdout",
          "text": [
            "Train Loss 0.01944015361368656\n",
            "Train Accuracy 1.0\n"
          ]
        }
      ]
    },
    {
      "cell_type": "code",
      "source": [
        "# Vẽ đồ thị giữa số lần học (Epochs) và độ chính xác (Accuracy)\n",
        "plt.plot(a.history['accuracy'])\n",
        "plt.title('Model Accuracy')\n",
        "plt.ylabel('Accuracy')\n",
        "plt.xlabel('Epochs')\n",
        "plt.legend(['Train'])\n",
        "plt.show"
      ],
      "metadata": {
        "colab": {
          "base_uri": "https://localhost:8080/",
          "height": 489
        },
        "id": "gg8GlhFLdK2y",
        "outputId": "db767946-2ad0-4ea9-f5d4-51e947675c7e"
      },
      "execution_count": 34,
      "outputs": [
        {
          "output_type": "execute_result",
          "data": {
            "text/plain": [
              "<function matplotlib.pyplot.show(close=None, block=None)>"
            ]
          },
          "metadata": {},
          "execution_count": 34
        },
        {
          "output_type": "display_data",
          "data": {
            "text/plain": [
              "<Figure size 640x480 with 1 Axes>"
            ],
            "image/png": "[encoded data removed]"
          },
          "metadata": {}
        }
      ]
    },
    {
      "cell_type": "code",
      "source": [
        "model1= load_model('/content/drive/MyDrive/bt al/tiền/Cash.h5')"
      ],
      "metadata": {
        "id": "8tvDzcRudWB5"
      },
      "execution_count": 36,
      "outputs": []
    },
    {
      "cell_type": "code",
      "source": [
        "img = load_img('/content/drive/MyDrive/bt al/tiền/test/tiền.jpg', target_size=(30,40))\n",
        "plt.imshow(img)"
      ],
      "metadata": {
        "colab": {
          "base_uri": "https://localhost:8080/",
          "height": 447
        },
        "id": "6qNtslJhddza",
        "outputId": "b2498259-816c-4f3c-8a0f-5139b5f1c173"
      },
      "execution_count": 38,
      "outputs": [
        {
          "output_type": "execute_result",
          "data": {
            "text/plain": [
              "<matplotlib.image.AxesImage at 0x7f1788f638b0>"
            ]
          },
          "metadata": {},
          "execution_count": 38
        },
        {
          "output_type": "display_data",
          "data": {
            "text/plain": [
              "<Figure size 640x480 with 1 Axes>"
            ],
            "image/png": "[encoded data removed]"
          },
          "metadata": {}
        }
      ]
    },
    {
      "cell_type": "code",
      "source": [
        "class_name=['10000', '100000', '20000', '5000', '50000', '500000']"
      ],
      "metadata": {
        "id": "Sy_UQ_tKeRAr"
      },
      "execution_count": 39,
      "outputs": []
    },
    {
      "cell_type": "code",
      "source": [
        "imgRe = img_to_array(img)\n",
        "imgRe = imgRe.reshape(1,30,40,3)  \n",
        "imgRe = imgRe.astype('float32')\n",
        "imgRe /= 255\n",
        "y_pred = model.predict(imgRe)\n",
        "print(y_pred)\n",
        "y_classes = [np.argmax(element) for element in y_pred]\n",
        "y_classes\n",
        "class_name[y_classes[0]]"
      ],
      "metadata": {
        "colab": {
          "base_uri": "https://localhost:8080/",
          "height": 87
        },
        "id": "QVfEkI_gefui",
        "outputId": "bc143648-e66f-4ed0-8cc6-ba2a2707554c"
      },
      "execution_count": 40,
      "outputs": [
        {
          "output_type": "stream",
          "name": "stdout",
          "text": [
            "1/1 [==============================] - 0s 181ms/step\n",
            "[[7.0891801e-05 7.7627413e-07 3.5443671e-02 9.6439892e-01 1.7399342e-11\n",
            "  8.5796179e-05]]\n"
          ]
        },
        {
          "output_type": "execute_result",
          "data": {
            "text/plain": [
              "'5000'"
            ],
            "application/vnd.google.colaboratory.intrinsic+json": {
              "type": "string"
            }
          },
          "metadata": {},
          "execution_count": 40
        }
      ]
    }
  ]
}